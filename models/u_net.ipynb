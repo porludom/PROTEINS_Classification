{
  "nbformat": 4,
  "nbformat_minor": 0,
  "metadata": {
    "colab": {
      "provenance": []
    },
    "kernelspec": {
      "name": "python3",
      "display_name": "Python 3"
    },
    "language_info": {
      "name": "python"
    }
  },
  "cells": [
    {
      "cell_type": "code",
      "execution_count": 2,
      "metadata": {
        "id": "QRdeJzln-vDI"
      },
      "outputs": [],
      "source": [
        "import numpy as np\n",
        "from tqdm import tqdm\n",
        "import networkx as nx\n",
        "from functools import partial\n",
        "import torch\n",
        "import torch.nn as nn\n",
        "import torch.nn.functional as F\n",
        "#!pip install torch_geometric\n",
        "import torch_geometric\n",
        "from typing import List\n",
        "from IPython.display import clear_output\n",
        "from torch_geometric.datasets import TUDataset\n",
        "from torch_geometric.nn import GCNConv\n",
        "import matplotlib.pyplot as plt\n",
        "import seaborn as sns\n",
        "from torch.utils.data import DataLoader\n",
        "import torch_geometric.transforms as T\n",
        "sns.set_theme()\n",
        "clear_output()"
      ]
    },
    {
      "cell_type": "code",
      "source": [
        "class Pool(nn.Module):\n",
        "\n",
        "    def __init__(self,\n",
        "                 k : List[int],\n",
        "                 in_dim : float,\n",
        "                 p : float):\n",
        "        super(Pool, self).__init__()\n",
        "        self.k = k # 0 to 1\n",
        "        self.proj = nn.Linear(in_dim, 1) # Projection operator that gives scores with help of sigmoid\n",
        "        self.sigmoid = nn.Sigmoid()\n",
        "\n",
        "        self.drop = nn.Dropout(p=p) if p > 0 else nn.Identity()\n",
        "\n",
        "    def forward(self,\n",
        "                adj_t : torch.Tensor,\n",
        "                x : torch.Tensor):\n",
        "        #Z = self.drop(g.x)\n",
        "\n",
        "        # g.x is the tensor of shape (#nodes X features)\n",
        "        projections = self.proj(x).squeeze() # output shape after projection is (#nodes, 1) ->  (#nodes) after squeeze\n",
        "        scores = self.sigmoid(projections)\n",
        "        return self.top_k_graph(scores, adj_t, x, self.k)\n",
        "\n",
        "    def top_k_graph(self,\n",
        "                    scores : torch.Tensor,\n",
        "                    adj_t : torch.Tensor,\n",
        "                    x : torch.Tensor,\n",
        "                    k : int):\n",
        "        '''\n",
        "        Function to retrieve only some most important nodes\n",
        "        scores - the tensor with scores for every node in given graph.\n",
        "        graph - graph.....\n",
        "        h - features of the graph\n",
        "        k - how many to choose. Value from 0 to 1\n",
        "        Returns features, adjacency matrix of the new graph, and the indices of vertices been selected\n",
        "        '''\n",
        "\n",
        "        x = self.drop(x)\n",
        "        # Take k*100 % highest scores and their indices\n",
        "        values, idx = torch.topk(scores, max(2, int(k*x.shape[0])))\n",
        "\n",
        "        # Take features of nodes with best scores above\n",
        "        new_h = x[idx, :] # Features for selected nodes. Shape is (k, feat_dim)\n",
        "\n",
        "        values = torch.unsqueeze(values, -1) # Now dimension is (k, 1)\n",
        "\n",
        "        # Here we have multiplication of matrix and column vector. In numpy it means we multiply every column of matrix by given column vector\n",
        "        new_h = torch.mul(new_h, values) # obtain new unnormalized features after pooling. Shape is (k, feat_dim)\n",
        "\n",
        "\n",
        "        # Create new adjacency matrix using indices.\n",
        "        adj_t = adj_t.to_dense()\n",
        "        adj_t = adj_t[idx, :]\n",
        "        adj_t = adj_t[:, idx]\n",
        "        adj_t = adj_t.bool().float()\n",
        "        # Replace adjacency matrix by its second power to increase connectivity as stated in the paper\n",
        "        adj_t = torch.matmul(adj_t, adj_t).bool().float()\n",
        "\n",
        "        #degrees = torch.sum(adj_t, 1).unsqueeze(-1)\n",
        "        #new_h = new_h / degrees # remember about self loops so no zero in denominator always\n",
        "\n",
        "        adj_t = adj_t.to_sparse()\n",
        "        x = new_h\n",
        "\n",
        "        return x, adj_t, idx  # Return graph and indices we have taken from the INITIAL graph"
      ],
      "metadata": {
        "id": "uaT4E0tfCO7R"
      },
      "execution_count": 3,
      "outputs": []
    },
    {
      "cell_type": "code",
      "source": [
        "class Unpool(nn.Module):\n",
        "\n",
        "    def __init__(self):\n",
        "        super(Unpool, self).__init__()\n",
        "\n",
        "    def forward(self,\n",
        "                adj_t : torch.Tensor,\n",
        "                x : torch.Tensor,\n",
        "                idx : torch.Tensor):\n",
        "        new_x = x.new_zeros([adj_t.shape[0], x.shape[1]]) # Zero matrix\n",
        "        new_x[idx] = x # Fill some row by features when specified\n",
        "        return adj_t, new_x"
      ],
      "metadata": {
        "id": "JOS3yZJTDVN9"
      },
      "execution_count": 4,
      "outputs": []
    },
    {
      "cell_type": "code",
      "source": [
        "class GraphUnet(nn.Module):\n",
        "    '''\n",
        "    This is the module that creates embeddings for nodes in given graph.\n",
        "    So classifiers after this one are needed\n",
        "    '''\n",
        "    def __init__(self,\n",
        "                 ks : List[int],\n",
        "                 dim : int,\n",
        "                 drop_p : float):\n",
        "        '''\n",
        "        ks - Values of k for pool layers\n",
        "        dim - Dimensionality of input and output vectors in convolutions\n",
        "        drop_p - probability for Dropout layer\n",
        "        '''\n",
        "        super(GraphUnet, self).__init__()\n",
        "        self.ks = ks # Values of k for pool layers\n",
        "\n",
        "        # Improved gives two selfloops instead of 1\n",
        "        self.bottom_gcn = GCNConv(dim, dim, improved = True) # GCN at the bottom of the model picture in paper, that is medium from encoding to decoding\n",
        "        self.down_gcns = nn.ModuleList() # GCNs before pooling\n",
        "        self.up_gcns = nn.ModuleList() # GCN after unpooling\n",
        "        self.pools = nn.ModuleList()\n",
        "        self.unpools = nn.ModuleList()\n",
        "\n",
        "        self.l_n = len(ks) # number of blocks GCN + pool AND corresponding unpool + GCN\n",
        "\n",
        "        for i in range(self.l_n): # here we add blocks\n",
        "            self.down_gcns.append(GCNConv(dim, dim, improved = True))\n",
        "            self.up_gcns.append(GCNConv(dim, dim, improved = True))\n",
        "            self.pools.append(Pool(ks[i], dim, drop_p))\n",
        "            self.unpools.append(Unpool())\n",
        "\n",
        "    def forward(self,\n",
        "                g : torch.Tensor,\n",
        "                h : torch.Tensor):\n",
        "        adj_ms = [] # saved adjacencies\n",
        "        indices_list = [] # saved indices lists from pooling for unpooling\n",
        "        down_outs = [] # saved features\n",
        "        hs = [] # all features after unpoolings and initial one\n",
        "        org_h = h # initial features\n",
        "\n",
        "        for i in range(self.l_n): # iterating over pooling blocks\n",
        "            h = self.down_gcns[i](h, g) # GCN, obtain new features\n",
        "            h = F.elu(h) # activation function\n",
        "            adj_ms.append(g) # save adjacency matrix for unpooling layers\n",
        "            down_outs.append(h) # save features for skip connections\n",
        "\n",
        "            h, g, idx = self.pools[i](g, h) # Pooling\n",
        "            indices_list.append(idx)  # save for unpooling layers\n",
        "        h = self.bottom_gcn(h, g) # GCN at the bottom\n",
        "\n",
        "        for i in range(self.l_n): # iterating over unpooling blocks\n",
        "            up_idx = self.l_n - i - 1\n",
        "            g, idx = adj_ms[up_idx], indices_list[up_idx]\n",
        "            g, h = self.unpools[i](g, h, idx) # unpool with corresponding information from pooling\n",
        "            h = self.up_gcns[i](h, g)\n",
        "            h = F.elu(h)\n",
        "            h = h.add(down_outs[up_idx]) # skip connection\n",
        "            hs.append(h)\n",
        "        h = h.add(org_h)\n",
        "        hs.append(h)\n",
        "        return hs"
      ],
      "metadata": {
        "id": "XNtDZdiNrqnG"
      },
      "execution_count": 5,
      "outputs": []
    },
    {
      "cell_type": "code",
      "source": [
        "class Net(nn.Module):\n",
        "    def __init__(self,\n",
        "                 in_dim : int,\n",
        "                 n_classes : int,\n",
        "                 ks : List[int],\n",
        "                 l_dim : int,\n",
        "                 h_dim : int,\n",
        "                 p_linear : float):\n",
        "        '''\n",
        "        in_dim - dimension of node embeddings in the input graph\n",
        "        n_classes - number of classes to predict\n",
        "        ks - rate for max-poolings.\n",
        "        l_dim - dimension of nodes in U-NET, during convolutions\n",
        "        h_dim - hidden dimension for linear layers\n",
        "        p_linear - probability of dropout between linear layers\n",
        "        '''\n",
        "        super(Net, self).__init__()\n",
        "\n",
        "        # Graph convolution to increase the dimensionality of nodes embeddings\n",
        "        self.s_gcn = GCNConv(in_dim, l_dim, improved = True)\n",
        "        # U-Net to obtain better embeddings\n",
        "        self.g_unet = GraphUnet(\n",
        "            ks, l_dim, 0.3)\n",
        "\n",
        "        # Linear layers to make a classification on graph\n",
        "\n",
        "        self.out_l_1 = nn.Linear(3*l_dim*(len(ks)+1), h_dim) # look at readout  function to see why we use such input dimension\n",
        "        self.elu = torch.nn.ELU()\n",
        "        self.out_drop = nn.Dropout(p=p_linear)\n",
        "        self.out_l_2 = nn.Linear(h_dim, n_classes)\n",
        "        #Initializer.weights_init(self)\n",
        "\n",
        "    def forward(self, gs : List):\n",
        "        # gs are the graphs\n",
        "        hs = self.embed(gs) # make an embeddings for input graphs.\n",
        "        logits = self.classify(hs) # make a predictions according to graph embeddings\n",
        "        labels = torch.zeros(len(gs), dtype = torch.int64)\n",
        "        for i, g in enumerate(gs):\n",
        "          target = g.y[0]\n",
        "          labels[i] = target\n",
        "        return self.metric(logits, labels) # return loss and metric. loss will be used for backprop\n",
        "\n",
        "    def embed(self, gs):\n",
        "        '''\n",
        "        Create embedding for all graphs in the input\n",
        "        gs - graphs!!\n",
        "\n",
        "        Returns embedding representations of every graph\n",
        "        '''\n",
        "        o_hs = []\n",
        "        for g in gs:\n",
        "            h = self.embed_one(g.adj_t, g.x)\n",
        "            o_hs.append(h)\n",
        "        hs = torch.stack(o_hs, 0) # to make a batch. dimension is (N_graphs, output_dim)\n",
        "        return hs\n",
        "\n",
        "    def embed_one(self, adj_t, h):\n",
        "        '''\n",
        "        Creates an embedding for the input graph\n",
        "\n",
        "        g - adjacency matrix\n",
        "        h - features of nodes\n",
        "\n",
        "        Outputs embedding of the graph\n",
        "        '''\n",
        "        # degrees = torch.sum(adj_t, 1).unsqueeze(-1)\n",
        "        # adj_t = adj_t.to_sparse()\n",
        "        # new_h = new_h / degrees\n",
        "\n",
        "        h = self.s_gcn(h, adj_t)\n",
        "        h = F.elu(h)\n",
        "        hs = self.g_unet(adj_t, h)\n",
        "        h = self.readout(hs)\n",
        "        return h\n",
        "\n",
        "    def readout(self, hs : torch.tensor) -> torch.Tensor:\n",
        "        '''\n",
        "        Function to create embedding for the whole graph after u-net\n",
        "        hs - Features of nodes\n",
        "        Returns the embedding of the graph\n",
        "        '''\n",
        "        h_max = [torch.max(h, 0)[0] for h in hs]\n",
        "        h_sum = [torch.sum(h, 0) for h in hs]\n",
        "        h_mean = [torch.mean(h, 0) for h in hs]\n",
        "        h = torch.cat(h_max + h_sum + h_mean)\n",
        "        return h\n",
        "\n",
        "    def classify(self, h):\n",
        "        h = self.out_drop(h)\n",
        "        h = self.out_l_1(h)\n",
        "        h = self.elu(h)\n",
        "        h = self.out_drop(h)\n",
        "        h = self.out_l_2(h)\n",
        "        return F.log_softmax(h, dim=1)\n",
        "\n",
        "    def metric(self, logits, labels):\n",
        "        loss = F.nll_loss(logits, labels)\n",
        "        _, preds = torch.max(logits, 1)\n",
        "        acc = torch.mean((preds == labels).float())\n",
        "        return loss, acc"
      ],
      "metadata": {
        "id": "0AK6qM5--fSF"
      },
      "execution_count": 6,
      "outputs": []
    },
    {
      "cell_type": "code",
      "source": [
        "def run_epoch(epoch : int,\n",
        "              loader,\n",
        "              model,\n",
        "              optimizer):\n",
        "        '''\n",
        "        data is the list of batches, every batch is the list of graphs\n",
        "        '''\n",
        "        losses, accs, n_samples = [], [], 0\n",
        "\n",
        "        for batch in tqdm(loader, desc=str(epoch), unit='b'):\n",
        "            #gs, hs, ys = map(self.to_cuda, [gs, hs, ys])\n",
        "            cur_len = len(batch)\n",
        "\n",
        "            loss, acc = model(batch)\n",
        "            losses.append(loss*cur_len)\n",
        "            accs.append(acc*cur_len)\n",
        "\n",
        "            n_samples += cur_len\n",
        "\n",
        "            if optimizer is not None:\n",
        "                optimizer.zero_grad()\n",
        "                loss.backward()\n",
        "                optimizer.step()\n",
        "\n",
        "        avg_loss, avg_acc = sum(losses) / n_samples, sum(accs) / n_samples\n",
        "        return avg_loss.item(), avg_acc.item()\n",
        "\n",
        "def train(optimizer, net, num_epochs, train_loader, test_loader):\n",
        "        max_acc = 0.0\n",
        "        train_str = 'Train epoch %d: loss %.5f acc %.5f'\n",
        "        test_str = 'Test epoch %d: loss %.5f max %.5f'\n",
        "        line_str = '%d:\\t%.5f\\n'\n",
        "\n",
        "        train_losses = []\n",
        "        test_losses = []\n",
        "        for e_id in range(num_epochs):\n",
        "            # TRAIN\n",
        "            net.train()\n",
        "            loss, acc = run_epoch(\n",
        "                e_id, train_loader, net, optimizer)\n",
        "\n",
        "            print(train_str % (e_id, loss, acc))\n",
        "            train_losses.append(loss)\n",
        "            # EVALUATE\n",
        "            with torch.no_grad():\n",
        "                net.eval()\n",
        "                loss, acc = run_epoch(e_id, test_loader, net, None)\n",
        "                test_losses.append(loss)\n",
        "            max_acc = max(max_acc, acc)\n",
        "            print(test_str % (e_id, loss, max_acc))\n",
        "        return train_losses, test_losses"
      ],
      "metadata": {
        "id": "CHF1jOOfYV3x"
      },
      "execution_count": 13,
      "outputs": []
    },
    {
      "cell_type": "code",
      "source": [
        "net = Net(in_dim = 3,\n",
        "          n_classes = 2,\n",
        "          ks = [0.9, 0.8, 0.7],\n",
        "          l_dim = 64,\n",
        "          h_dim = 512,\n",
        "          p_linear = 0.2)\n",
        "optimizer = torch.optim.Adam(net.parameters())"
      ],
      "metadata": {
        "id": "UoozrFYrIl9U"
      },
      "execution_count": 14,
      "outputs": []
    },
    {
      "cell_type": "code",
      "source": [
        "dataset = TUDataset(root='/tmp/PROTEINS', name='PROTEINS', cleaned = True, transform=T.Compose([T.ToSparseTensor()]))\n",
        "clear_output()"
      ],
      "metadata": {
        "id": "PT-jsgNV_pdH"
      },
      "execution_count": 15,
      "outputs": []
    },
    {
      "cell_type": "code",
      "source": [
        "def collate(batch : List):\n",
        "  # Just returns the list of graphs, as needed in the implementation\n",
        "  return batch"
      ],
      "metadata": {
        "id": "GRLHf9l7h7g7"
      },
      "execution_count": 16,
      "outputs": []
    },
    {
      "cell_type": "code",
      "source": [
        "test_ratio = 0.2 # Ratio for splitting dataset\n",
        "batch_size = 64\n",
        "length = 975\n",
        "start_of_ones = 632\n",
        "\n",
        "test_dataset = dataset[:int(test_ratio * start_of_ones)] + dataset[start_of_ones :start_of_ones +  int(test_ratio * (length - start_of_ones))]\n",
        "# train set is balanced by hands\n",
        "train_dataset = dataset[int(test_ratio * start_of_ones):start_of_ones] + dataset[start_of_ones + int(test_ratio * (length - start_of_ones)):] + dataset[start_of_ones + int(test_ratio * (length - start_of_ones)):]\n",
        "test_loader = DataLoader(test_dataset, batch_size=batch_size, shuffle=True, collate_fn=collate)\n",
        "train_loader = DataLoader(train_dataset, batch_size=batch_size, shuffle = True, collate_fn=collate)"
      ],
      "metadata": {
        "id": "7vA_JvULfUnu"
      },
      "execution_count": 17,
      "outputs": []
    },
    {
      "cell_type": "code",
      "source": [
        "epochs = 30\n",
        "train_losses, test_losses = train(optimizer, net, epochs, train_loader, test_loader)"
      ],
      "metadata": {
        "colab": {
          "base_uri": "https://localhost:8080/"
        },
        "id": "enCweg6yhk3g",
        "outputId": "fb3b095a-b752-413c-cc37-8de17d6cf564"
      },
      "execution_count": 18,
      "outputs": [
        {
          "output_type": "stream",
          "name": "stderr",
          "text": [
            "\r0:   0%|          | 0/17 [00:00<?, ?b/s]/usr/local/lib/python3.10/dist-packages/torch_geometric/utils/spmm.py:68: UserWarning: Converting sparse tensor to CSR format for more efficient processing. Consider converting your sparse tensor to CSR format beforehand to avoid repeated conversion (got 'torch.sparse_coo')\n",
            "  warnings.warn(f\"Converting sparse tensor to CSR format for more \"\n",
            "0: 100%|██████████| 17/17 [00:22<00:00,  1.34s/b]\n"
          ]
        },
        {
          "output_type": "stream",
          "name": "stdout",
          "text": [
            "Train epoch 0: loss 1.21928 acc 0.54072\n"
          ]
        },
        {
          "output_type": "stream",
          "name": "stderr",
          "text": [
            "0: 100%|██████████| 4/4 [00:02<00:00,  1.49b/s]\n"
          ]
        },
        {
          "output_type": "stream",
          "name": "stdout",
          "text": [
            "Test epoch 0: loss 0.78028 max 0.46907\n"
          ]
        },
        {
          "output_type": "stream",
          "name": "stderr",
          "text": [
            "1: 100%|██████████| 17/17 [00:20<00:00,  1.19s/b]\n"
          ]
        },
        {
          "output_type": "stream",
          "name": "stdout",
          "text": [
            "Train epoch 1: loss 0.65288 acc 0.66288\n"
          ]
        },
        {
          "output_type": "stream",
          "name": "stderr",
          "text": [
            "1: 100%|██████████| 4/4 [00:02<00:00,  1.53b/s]\n"
          ]
        },
        {
          "output_type": "stream",
          "name": "stdout",
          "text": [
            "Test epoch 1: loss 0.49347 max 0.77835\n"
          ]
        },
        {
          "output_type": "stream",
          "name": "stderr",
          "text": [
            "2: 100%|██████████| 17/17 [00:19<00:00,  1.15s/b]\n"
          ]
        },
        {
          "output_type": "stream",
          "name": "stdout",
          "text": [
            "Train epoch 2: loss 0.61010 acc 0.68182\n"
          ]
        },
        {
          "output_type": "stream",
          "name": "stderr",
          "text": [
            "2: 100%|██████████| 4/4 [00:03<00:00,  1.24b/s]\n"
          ]
        },
        {
          "output_type": "stream",
          "name": "stdout",
          "text": [
            "Test epoch 2: loss 0.51957 max 0.77835\n"
          ]
        },
        {
          "output_type": "stream",
          "name": "stderr",
          "text": [
            "3: 100%|██████████| 17/17 [00:20<00:00,  1.18s/b]\n"
          ]
        },
        {
          "output_type": "stream",
          "name": "stdout",
          "text": [
            "Train epoch 3: loss 0.59064 acc 0.68750\n"
          ]
        },
        {
          "output_type": "stream",
          "name": "stderr",
          "text": [
            "3: 100%|██████████| 4/4 [00:02<00:00,  1.60b/s]\n"
          ]
        },
        {
          "output_type": "stream",
          "name": "stdout",
          "text": [
            "Test epoch 3: loss 0.56316 max 0.77835\n"
          ]
        },
        {
          "output_type": "stream",
          "name": "stderr",
          "text": [
            "4: 100%|██████████| 17/17 [00:21<00:00,  1.26s/b]\n"
          ]
        },
        {
          "output_type": "stream",
          "name": "stdout",
          "text": [
            "Train epoch 4: loss 0.59696 acc 0.70455\n"
          ]
        },
        {
          "output_type": "stream",
          "name": "stderr",
          "text": [
            "4: 100%|██████████| 4/4 [00:02<00:00,  1.50b/s]\n"
          ]
        },
        {
          "output_type": "stream",
          "name": "stdout",
          "text": [
            "Test epoch 4: loss 0.49822 max 0.78866\n"
          ]
        },
        {
          "output_type": "stream",
          "name": "stderr",
          "text": [
            "5: 100%|██████████| 17/17 [00:22<00:00,  1.31s/b]\n"
          ]
        },
        {
          "output_type": "stream",
          "name": "stdout",
          "text": [
            "Train epoch 5: loss 0.58478 acc 0.69129\n"
          ]
        },
        {
          "output_type": "stream",
          "name": "stderr",
          "text": [
            "5: 100%|██████████| 4/4 [00:02<00:00,  1.48b/s]\n"
          ]
        },
        {
          "output_type": "stream",
          "name": "stdout",
          "text": [
            "Test epoch 5: loss 0.47479 max 0.78866\n"
          ]
        },
        {
          "output_type": "stream",
          "name": "stderr",
          "text": [
            "6: 100%|██████████| 17/17 [00:20<00:00,  1.19s/b]\n"
          ]
        },
        {
          "output_type": "stream",
          "name": "stdout",
          "text": [
            "Train epoch 6: loss 0.59161 acc 0.69508\n"
          ]
        },
        {
          "output_type": "stream",
          "name": "stderr",
          "text": [
            "6: 100%|██████████| 4/4 [00:03<00:00,  1.14b/s]\n"
          ]
        },
        {
          "output_type": "stream",
          "name": "stdout",
          "text": [
            "Test epoch 6: loss 0.49660 max 0.78866\n"
          ]
        },
        {
          "output_type": "stream",
          "name": "stderr",
          "text": [
            "7: 100%|██████████| 17/17 [00:20<00:00,  1.18s/b]\n"
          ]
        },
        {
          "output_type": "stream",
          "name": "stdout",
          "text": [
            "Train epoch 7: loss 0.57866 acc 0.70455\n"
          ]
        },
        {
          "output_type": "stream",
          "name": "stderr",
          "text": [
            "7: 100%|██████████| 4/4 [00:03<00:00,  1.33b/s]\n"
          ]
        },
        {
          "output_type": "stream",
          "name": "stdout",
          "text": [
            "Test epoch 7: loss 0.60969 max 0.78866\n"
          ]
        },
        {
          "output_type": "stream",
          "name": "stderr",
          "text": [
            "8: 100%|██████████| 17/17 [00:21<00:00,  1.25s/b]\n"
          ]
        },
        {
          "output_type": "stream",
          "name": "stdout",
          "text": [
            "Train epoch 8: loss 0.56733 acc 0.70549\n"
          ]
        },
        {
          "output_type": "stream",
          "name": "stderr",
          "text": [
            "8: 100%|██████████| 4/4 [00:02<00:00,  1.50b/s]\n"
          ]
        },
        {
          "output_type": "stream",
          "name": "stdout",
          "text": [
            "Test epoch 8: loss 0.54400 max 0.78866\n"
          ]
        },
        {
          "output_type": "stream",
          "name": "stderr",
          "text": [
            "9: 100%|██████████| 17/17 [00:21<00:00,  1.24s/b]\n"
          ]
        },
        {
          "output_type": "stream",
          "name": "stdout",
          "text": [
            "Train epoch 9: loss 0.57000 acc 0.70833\n"
          ]
        },
        {
          "output_type": "stream",
          "name": "stderr",
          "text": [
            "9: 100%|██████████| 4/4 [00:02<00:00,  1.49b/s]\n"
          ]
        },
        {
          "output_type": "stream",
          "name": "stdout",
          "text": [
            "Test epoch 9: loss 0.49341 max 0.78866\n"
          ]
        },
        {
          "output_type": "stream",
          "name": "stderr",
          "text": [
            "10: 100%|██████████| 17/17 [00:20<00:00,  1.22s/b]\n"
          ]
        },
        {
          "output_type": "stream",
          "name": "stdout",
          "text": [
            "Train epoch 10: loss 0.57346 acc 0.69886\n"
          ]
        },
        {
          "output_type": "stream",
          "name": "stderr",
          "text": [
            "10: 100%|██████████| 4/4 [00:02<00:00,  1.50b/s]\n"
          ]
        },
        {
          "output_type": "stream",
          "name": "stdout",
          "text": [
            "Test epoch 10: loss 0.46883 max 0.78866\n"
          ]
        },
        {
          "output_type": "stream",
          "name": "stderr",
          "text": [
            "11: 100%|██████████| 17/17 [00:19<00:00,  1.16s/b]\n"
          ]
        },
        {
          "output_type": "stream",
          "name": "stdout",
          "text": [
            "Train epoch 11: loss 0.57948 acc 0.70928\n"
          ]
        },
        {
          "output_type": "stream",
          "name": "stderr",
          "text": [
            "11: 100%|██████████| 4/4 [00:03<00:00,  1.09b/s]\n"
          ]
        },
        {
          "output_type": "stream",
          "name": "stdout",
          "text": [
            "Test epoch 11: loss 0.48386 max 0.78866\n"
          ]
        },
        {
          "output_type": "stream",
          "name": "stderr",
          "text": [
            "12: 100%|██████████| 17/17 [00:20<00:00,  1.18s/b]\n"
          ]
        },
        {
          "output_type": "stream",
          "name": "stdout",
          "text": [
            "Train epoch 12: loss 0.57515 acc 0.69981\n"
          ]
        },
        {
          "output_type": "stream",
          "name": "stderr",
          "text": [
            "12: 100%|██████████| 4/4 [00:02<00:00,  1.50b/s]\n"
          ]
        },
        {
          "output_type": "stream",
          "name": "stdout",
          "text": [
            "Test epoch 12: loss 0.47354 max 0.78866\n"
          ]
        },
        {
          "output_type": "stream",
          "name": "stderr",
          "text": [
            "13: 100%|██████████| 17/17 [00:21<00:00,  1.29s/b]\n"
          ]
        },
        {
          "output_type": "stream",
          "name": "stdout",
          "text": [
            "Train epoch 13: loss 0.57376 acc 0.70265\n"
          ]
        },
        {
          "output_type": "stream",
          "name": "stderr",
          "text": [
            "13: 100%|██████████| 4/4 [00:02<00:00,  1.50b/s]\n"
          ]
        },
        {
          "output_type": "stream",
          "name": "stdout",
          "text": [
            "Test epoch 13: loss 0.51643 max 0.78866\n"
          ]
        },
        {
          "output_type": "stream",
          "name": "stderr",
          "text": [
            "14: 100%|██████████| 17/17 [00:20<00:00,  1.22s/b]\n"
          ]
        },
        {
          "output_type": "stream",
          "name": "stdout",
          "text": [
            "Train epoch 14: loss 0.56786 acc 0.71402\n"
          ]
        },
        {
          "output_type": "stream",
          "name": "stderr",
          "text": [
            "14: 100%|██████████| 4/4 [00:02<00:00,  1.53b/s]\n"
          ]
        },
        {
          "output_type": "stream",
          "name": "stdout",
          "text": [
            "Test epoch 14: loss 0.51866 max 0.78866\n"
          ]
        },
        {
          "output_type": "stream",
          "name": "stderr",
          "text": [
            "15: 100%|██████████| 17/17 [00:19<00:00,  1.15s/b]\n"
          ]
        },
        {
          "output_type": "stream",
          "name": "stdout",
          "text": [
            "Train epoch 15: loss 0.56947 acc 0.71023\n"
          ]
        },
        {
          "output_type": "stream",
          "name": "stderr",
          "text": [
            "15: 100%|██████████| 4/4 [00:03<00:00,  1.18b/s]\n"
          ]
        },
        {
          "output_type": "stream",
          "name": "stdout",
          "text": [
            "Test epoch 15: loss 0.55422 max 0.78866\n"
          ]
        },
        {
          "output_type": "stream",
          "name": "stderr",
          "text": [
            "16: 100%|██████████| 17/17 [00:19<00:00,  1.14s/b]\n"
          ]
        },
        {
          "output_type": "stream",
          "name": "stdout",
          "text": [
            "Train epoch 16: loss 0.57185 acc 0.69413\n"
          ]
        },
        {
          "output_type": "stream",
          "name": "stderr",
          "text": [
            "16: 100%|██████████| 4/4 [00:02<00:00,  1.60b/s]\n"
          ]
        },
        {
          "output_type": "stream",
          "name": "stdout",
          "text": [
            "Test epoch 16: loss 0.46939 max 0.78866\n"
          ]
        },
        {
          "output_type": "stream",
          "name": "stderr",
          "text": [
            "17: 100%|██████████| 17/17 [00:20<00:00,  1.19s/b]\n"
          ]
        },
        {
          "output_type": "stream",
          "name": "stdout",
          "text": [
            "Train epoch 17: loss 0.56821 acc 0.71307\n"
          ]
        },
        {
          "output_type": "stream",
          "name": "stderr",
          "text": [
            "17: 100%|██████████| 4/4 [00:02<00:00,  1.58b/s]\n"
          ]
        },
        {
          "output_type": "stream",
          "name": "stdout",
          "text": [
            "Test epoch 17: loss 0.59275 max 0.78866\n"
          ]
        },
        {
          "output_type": "stream",
          "name": "stderr",
          "text": [
            "18: 100%|██████████| 17/17 [00:20<00:00,  1.18s/b]\n"
          ]
        },
        {
          "output_type": "stream",
          "name": "stdout",
          "text": [
            "Train epoch 18: loss 0.57228 acc 0.69886\n"
          ]
        },
        {
          "output_type": "stream",
          "name": "stderr",
          "text": [
            "18: 100%|██████████| 4/4 [00:03<00:00,  1.28b/s]\n"
          ]
        },
        {
          "output_type": "stream",
          "name": "stdout",
          "text": [
            "Test epoch 18: loss 0.49015 max 0.78866\n"
          ]
        },
        {
          "output_type": "stream",
          "name": "stderr",
          "text": [
            "19: 100%|██████████| 17/17 [00:19<00:00,  1.18s/b]\n"
          ]
        },
        {
          "output_type": "stream",
          "name": "stdout",
          "text": [
            "Train epoch 19: loss 0.55641 acc 0.71307\n"
          ]
        },
        {
          "output_type": "stream",
          "name": "stderr",
          "text": [
            "19: 100%|██████████| 4/4 [00:03<00:00,  1.25b/s]\n"
          ]
        },
        {
          "output_type": "stream",
          "name": "stdout",
          "text": [
            "Test epoch 19: loss 0.48693 max 0.78866\n"
          ]
        },
        {
          "output_type": "stream",
          "name": "stderr",
          "text": [
            "20: 100%|██████████| 17/17 [00:20<00:00,  1.21s/b]\n"
          ]
        },
        {
          "output_type": "stream",
          "name": "stdout",
          "text": [
            "Train epoch 20: loss 0.55898 acc 0.71686\n"
          ]
        },
        {
          "output_type": "stream",
          "name": "stderr",
          "text": [
            "20: 100%|██████████| 4/4 [00:02<00:00,  1.51b/s]\n"
          ]
        },
        {
          "output_type": "stream",
          "name": "stdout",
          "text": [
            "Test epoch 20: loss 0.54412 max 0.78866\n"
          ]
        },
        {
          "output_type": "stream",
          "name": "stderr",
          "text": [
            "21: 100%|██████████| 17/17 [00:21<00:00,  1.27s/b]\n"
          ]
        },
        {
          "output_type": "stream",
          "name": "stdout",
          "text": [
            "Train epoch 21: loss 0.56287 acc 0.70739\n"
          ]
        },
        {
          "output_type": "stream",
          "name": "stderr",
          "text": [
            "21: 100%|██████████| 4/4 [00:02<00:00,  1.46b/s]\n"
          ]
        },
        {
          "output_type": "stream",
          "name": "stdout",
          "text": [
            "Test epoch 21: loss 0.50698 max 0.78866\n"
          ]
        },
        {
          "output_type": "stream",
          "name": "stderr",
          "text": [
            "22: 100%|██████████| 17/17 [00:22<00:00,  1.31s/b]\n"
          ]
        },
        {
          "output_type": "stream",
          "name": "stdout",
          "text": [
            "Train epoch 22: loss 0.56385 acc 0.71591\n"
          ]
        },
        {
          "output_type": "stream",
          "name": "stderr",
          "text": [
            "22: 100%|██████████| 4/4 [00:02<00:00,  1.49b/s]\n"
          ]
        },
        {
          "output_type": "stream",
          "name": "stdout",
          "text": [
            "Test epoch 22: loss 0.48615 max 0.78866\n"
          ]
        },
        {
          "output_type": "stream",
          "name": "stderr",
          "text": [
            "23: 100%|██████████| 17/17 [00:20<00:00,  1.21s/b]\n"
          ]
        },
        {
          "output_type": "stream",
          "name": "stdout",
          "text": [
            "Train epoch 23: loss 0.55363 acc 0.71780\n"
          ]
        },
        {
          "output_type": "stream",
          "name": "stderr",
          "text": [
            "23: 100%|██████████| 4/4 [00:03<00:00,  1.29b/s]\n"
          ]
        },
        {
          "output_type": "stream",
          "name": "stdout",
          "text": [
            "Test epoch 23: loss 0.47468 max 0.78866\n"
          ]
        },
        {
          "output_type": "stream",
          "name": "stderr",
          "text": [
            "24: 100%|██████████| 17/17 [00:20<00:00,  1.19s/b]\n"
          ]
        },
        {
          "output_type": "stream",
          "name": "stdout",
          "text": [
            "Train epoch 24: loss 0.56576 acc 0.71780\n"
          ]
        },
        {
          "output_type": "stream",
          "name": "stderr",
          "text": [
            "24: 100%|██████████| 4/4 [00:03<00:00,  1.22b/s]\n"
          ]
        },
        {
          "output_type": "stream",
          "name": "stdout",
          "text": [
            "Test epoch 24: loss 0.47121 max 0.78866\n"
          ]
        },
        {
          "output_type": "stream",
          "name": "stderr",
          "text": [
            "25: 100%|██████████| 17/17 [00:20<00:00,  1.21s/b]\n"
          ]
        },
        {
          "output_type": "stream",
          "name": "stdout",
          "text": [
            "Train epoch 25: loss 0.58434 acc 0.69129\n"
          ]
        },
        {
          "output_type": "stream",
          "name": "stderr",
          "text": [
            "25: 100%|██████████| 4/4 [00:02<00:00,  1.51b/s]\n"
          ]
        },
        {
          "output_type": "stream",
          "name": "stdout",
          "text": [
            "Test epoch 25: loss 0.55349 max 0.78866\n"
          ]
        },
        {
          "output_type": "stream",
          "name": "stderr",
          "text": [
            "26: 100%|██████████| 17/17 [00:21<00:00,  1.25s/b]\n"
          ]
        },
        {
          "output_type": "stream",
          "name": "stdout",
          "text": [
            "Train epoch 26: loss 0.57381 acc 0.69602\n"
          ]
        },
        {
          "output_type": "stream",
          "name": "stderr",
          "text": [
            "26: 100%|██████████| 4/4 [00:02<00:00,  1.50b/s]\n"
          ]
        },
        {
          "output_type": "stream",
          "name": "stdout",
          "text": [
            "Test epoch 26: loss 0.49228 max 0.78866\n"
          ]
        },
        {
          "output_type": "stream",
          "name": "stderr",
          "text": [
            "27: 100%|██████████| 17/17 [00:20<00:00,  1.23s/b]\n"
          ]
        },
        {
          "output_type": "stream",
          "name": "stdout",
          "text": [
            "Train epoch 27: loss 0.56291 acc 0.72727\n"
          ]
        },
        {
          "output_type": "stream",
          "name": "stderr",
          "text": [
            "27: 100%|██████████| 4/4 [00:02<00:00,  1.57b/s]\n"
          ]
        },
        {
          "output_type": "stream",
          "name": "stdout",
          "text": [
            "Test epoch 27: loss 0.47254 max 0.78866\n"
          ]
        },
        {
          "output_type": "stream",
          "name": "stderr",
          "text": [
            "28: 100%|██████████| 17/17 [00:19<00:00,  1.13s/b]\n"
          ]
        },
        {
          "output_type": "stream",
          "name": "stdout",
          "text": [
            "Train epoch 28: loss 0.57391 acc 0.70739\n"
          ]
        },
        {
          "output_type": "stream",
          "name": "stderr",
          "text": [
            "28: 100%|██████████| 4/4 [00:03<00:00,  1.11b/s]\n"
          ]
        },
        {
          "output_type": "stream",
          "name": "stdout",
          "text": [
            "Test epoch 28: loss 0.46586 max 0.79897\n"
          ]
        },
        {
          "output_type": "stream",
          "name": "stderr",
          "text": [
            "29: 100%|██████████| 17/17 [00:20<00:00,  1.18s/b]\n"
          ]
        },
        {
          "output_type": "stream",
          "name": "stdout",
          "text": [
            "Train epoch 29: loss 0.57081 acc 0.69886\n"
          ]
        },
        {
          "output_type": "stream",
          "name": "stderr",
          "text": [
            "29: 100%|██████████| 4/4 [00:02<00:00,  1.56b/s]"
          ]
        },
        {
          "output_type": "stream",
          "name": "stdout",
          "text": [
            "Test epoch 29: loss 0.46641 max 0.79897\n"
          ]
        },
        {
          "output_type": "stream",
          "name": "stderr",
          "text": [
            "\n"
          ]
        }
      ]
    },
    {
      "cell_type": "code",
      "source": [
        "plt.plot( range(epochs),  train_losses)\n",
        "plt.plot( range(epochs),  test_losses)\n",
        "plt.legend([\"Train loss\", \"Test loss\"])\n",
        "plt.title(\"Loss\")"
      ],
      "metadata": {
        "id": "U9cxc_aVi430",
        "colab": {
          "base_uri": "https://localhost:8080/",
          "height": 474
        },
        "outputId": "1bbdd4be-21f7-4d2a-d008-460f6fccfbc2"
      },
      "execution_count": 21,
      "outputs": [
        {
          "output_type": "execute_result",
          "data": {
            "text/plain": [
              "Text(0.5, 1.0, 'Loss')"
            ]
          },
          "metadata": {},
          "execution_count": 21
        },
        {
          "output_type": "display_data",
          "data": {
            "text/plain": [
              "<Figure size 640x480 with 1 Axes>"
            ],
            "image/png": "[encoded data removed]"
          },
          "metadata": {}
        }
      ]
    },
    {
      "cell_type": "code",
      "source": [],
      "metadata": {
        "id": "92AE-FAmQEim"
      },
      "execution_count": null,
      "outputs": []
    }
  ]
}