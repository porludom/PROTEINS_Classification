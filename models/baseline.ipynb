{
  "cells": [
    {
      "cell_type": "code",
      "execution_count": 1,
      "id": "60c46114-c45f-4143-8ad6-e8b51c872409",
      "metadata": {
        "id": "60c46114-c45f-4143-8ad6-e8b51c872409"
      },
      "outputs": [],
      "source": [
        "import numpy as np\n",
        "import networkx as nx\n",
        "!pip install torch_geometric\n",
        "import torch_geometric\n",
        "from torch_geometric.utils import to_networkx\n",
        "from IPython.display import clear_output\n",
        "import torch\n",
        "import matplotlib.pyplot as plt\n",
        "import seaborn as sns\n",
        "from tqdm import tqdm\n",
        "sns.set_theme()\n",
        "clear_output()"
      ]
    },
    {
      "cell_type": "code",
      "source": [
        "import warnings\n",
        "warnings.filterwarnings(\"ignore\")"
      ],
      "metadata": {
        "id": "Ap_RbUojmd1M"
      },
      "id": "Ap_RbUojmd1M",
      "execution_count": 2,
      "outputs": []
    },
    {
      "cell_type": "code",
      "source": [
        "from torch_geometric.nn import GraphConv, TopKPooling, TransformerConv, GATConv\n",
        "from torch_geometric.nn import global_mean_pool, global_max_pool, global_add_pool\n",
        "from torch.nn import Linear, BatchNorm1d, ModuleList\n",
        "import torch.nn.functional as F\n",
        "from sklearn.metrics import confusion_matrix, f1_score, \\\n",
        "    accuracy_score, precision_score, recall_score, roc_auc_score"
      ],
      "metadata": {
        "id": "Y-hULMpvyY2U"
      },
      "id": "Y-hULMpvyY2U",
      "execution_count": 7,
      "outputs": []
    },
    {
      "cell_type": "code",
      "execution_count": 63,
      "id": "e6244fab-2e9c-46f0-9be8-3361bcb4118d",
      "metadata": {
        "id": "e6244fab-2e9c-46f0-9be8-3361bcb4118d"
      },
      "outputs": [],
      "source": [
        "dataset = torch_geometric.datasets.TUDataset(root = \"knowl_repr\", name = \"PROTEINS\", cleaned = True, use_edge_attr = True, use_node_attr  = True)\n",
        "\n",
        "clear_output()"
      ]
    },
    {
      "cell_type": "code",
      "source": [
        "device = torch.device('cuda' if torch.cuda.is_available() else \"cpu\")"
      ],
      "metadata": {
        "id": "TApN1jBwkrIE"
      },
      "id": "TApN1jBwkrIE",
      "execution_count": 64,
      "outputs": []
    },
    {
      "cell_type": "code",
      "source": [
        "from torch_geometric.data import DataLoader\n",
        "\n",
        "test_ratio = 0.3 # Ratio for splitting dataset\n",
        "batch_size = 20\n",
        "n = int(len(dataset) * test_ratio)\n",
        "dataset = dataset.shuffle()\n",
        "test_dataset = dataset[:n]\n",
        "train_dataset = dataset[n:]\n",
        "test_loader = DataLoader(test_dataset, batch_size=batch_size)\n",
        "train_loader = DataLoader(train_dataset, batch_size=batch_size)"
      ],
      "metadata": {
        "id": "Iu67LDkLyBXF"
      },
      "id": "Iu67LDkLyBXF",
      "execution_count": 65,
      "outputs": []
    },
    {
      "cell_type": "code",
      "source": [
        "class SimpleModel(torch.nn.Module):\n",
        "  def __init__(self, *args, **kwargs) -> None:\n",
        "      super().__init__(*args, **kwargs)\n",
        "      self.lin1 = Linear(4, 32)\n",
        "      self.bn1 = torch.nn.BatchNorm1d(32)\n",
        "      self.drop1 = torch.nn.Dropout(0.3)\n",
        "      self.lin2 = Linear(32, 32)\n",
        "      self.bn2 = torch.nn.BatchNorm1d(32)\n",
        "      self.drop2 = torch.nn.Dropout(0.3)\n",
        "      self.lin3 = Linear(32, 2)\n",
        "  def forward(self, x, edge_index, batch, edge_weight=None):\n",
        "      x = global_mean_pool(x, batch) # batch_size x 4\n",
        "      x = torch.relu(self.bn1(self.lin1(x)))\n",
        "      x = self.drop1(x)\n",
        "      x = torch.relu(self.bn2(self.lin2(x)))\n",
        "      x = self.drop2(x)\n",
        "      x = torch.softmax(self.lin3(x), dim = 1)\n",
        "      return x"
      ],
      "metadata": {
        "id": "lnOJH9d87lVb"
      },
      "id": "lnOJH9d87lVb",
      "execution_count": 89,
      "outputs": []
    },
    {
      "cell_type": "code",
      "source": [
        "model = SimpleModel().to(device)\n",
        "#%% Loss and Optimizer\n",
        "loss_fn = torch.nn.CrossEntropyLoss()\n",
        "optimizer = torch.optim.Adam(model.parameters())\n",
        "\n",
        "def train(epoch):\n",
        "    all_preds = []\n",
        "    all_labels = []\n",
        "    for data in tqdm(train_loader):\n",
        "        data = data.to(device)\n",
        "\n",
        "        x, edge_index, batch = data.x, data.edge_index, data.batch\n",
        "        labels = data.y\n",
        "\n",
        "        optimizer.zero_grad()\n",
        "\n",
        "        pred = model(x,edge_index, batch)\n",
        "\n",
        "        loss = loss_fn(pred.float(), labels)\n",
        "\n",
        "        loss.backward()\n",
        "        optimizer.step()\n",
        "\n",
        "        all_preds.append(np.argmax(pred.cpu().detach().numpy(), axis=1))\n",
        "        all_labels.append(labels.cpu().detach().numpy())\n",
        "\n",
        "    all_preds = np.concatenate(all_preds).ravel()\n",
        "    all_labels = np.concatenate(all_labels).ravel()\n",
        "    calculate_metrics(all_preds, all_labels, epoch, \"train\")\n",
        "    return loss\n",
        "\n",
        "def test(epoch):\n",
        "    all_preds = []\n",
        "    all_labels = []\n",
        "    for data in test_loader:\n",
        "        data = data.to(device)\n",
        "\n",
        "        x, edge_index, batch = data.x, data.edge_index, data.batch\n",
        "        labels = data.y\n",
        "\n",
        "        pred = model(x,edge_index, batch)\n",
        "\n",
        "        loss = loss_fn(pred.float(), labels)\n",
        "\n",
        "        all_preds.append(np.argmax(pred.cpu().detach().numpy(), axis=1))\n",
        "        all_labels.append(labels.cpu().detach().numpy())\n",
        "\n",
        "    all_preds = np.concatenate(all_preds).ravel()\n",
        "    all_labels = np.concatenate(all_labels).ravel()\n",
        "    print(f\"Predictions are {all_preds}\")\n",
        "    calculate_metrics(all_preds, all_labels, epoch, \"test\")\n",
        "    return loss\n",
        "\n",
        "def calculate_metrics(y_pred, y_true, epoch, type):\n",
        "    print(f\"\\n Confusion matrix: \\n {confusion_matrix(y_pred, y_true)}\")\n",
        "    print(f\"F1 Score: {f1_score(y_pred, y_true)}\")\n",
        "    print(f\"Accuracy: {accuracy_score(y_pred, y_true)}\")\n",
        "    print(f\"Precision: {precision_score(y_pred, y_true)}\")\n",
        "    print(f\"Recall: {recall_score(y_pred, y_true)}\")\n",
        "\n",
        "losses_train = []\n",
        "losses_val = []\n",
        "for epoch in range(100):\n",
        "        # Training\n",
        "        model.train()\n",
        "        loss = train(epoch=epoch)\n",
        "        losses_train.append(loss.item())\n",
        "        loss = loss.detach().cpu().numpy()\n",
        "        print(f\"Epoch {epoch} | Train Loss {loss}\")\n",
        "\n",
        "        # Testing\n",
        "        model.eval()\n",
        "        if epoch % 5 == 0:\n",
        "            loss = test(epoch=epoch)\n",
        "            losses_val.append(loss.item())\n",
        "            loss = loss.detach().cpu().numpy()\n",
        "            print(f\"Epoch {epoch} | Test Loss {loss}\")"
      ],
      "metadata": {
        "colab": {
          "base_uri": "https://localhost:8080/"
        },
        "id": "9sHhQuu9e5Xz",
        "outputId": "234256f7-a132-4422-e2c2-35ff3054645f"
      },
      "id": "9sHhQuu9e5Xz",
      "execution_count": 90,
      "outputs": [
        {
          "output_type": "stream",
          "name": "stderr",
          "text": [
            "100%|██████████| 35/35 [00:00<00:00, 83.50it/s]\n"
          ]
        },
        {
          "output_type": "stream",
          "name": "stdout",
          "text": [
            "\n",
            " Confusion matrix: \n",
            " [[234  98]\n",
            " [210 141]]\n",
            "F1 Score: 0.47796610169491527\n",
            "Accuracy: 0.5490483162518301\n",
            "Precision: 0.5899581589958159\n",
            "Recall: 0.4017094017094017\n",
            "Epoch 0 | Train Loss 0.9059335589408875\n",
            "Predictions are [0 0 0 1 1 0 0 0 0 1 0 0 1 1 0 0 0 0 0 0 0 0 0 1 0 0 0 0 0 1 0 0 0 0 0 0 0\n",
            " 0 0 0 0 1 1 0 1 0 0 1 1 0 0 0 0 0 1 1 0 0 1 0 0 0 0 1 1 0 0 0 0 1 1 1 0 1\n",
            " 0 0 0 0 0 0 0 0 0 1 1 1 0 0 1 0 0 0 0 0 1 0 0 0 1 0 0 0 0 0 0 0 1 0 0 0 1\n",
            " 0 1 0 0 0 0 0 0 0 1 1 0 0 0 0 0 0 0 0 0 0 1 0 0 0 0 0 0 1 0 0 1 1 0 0 0 1\n",
            " 0 0 0 0 1 0 0 1 0 1 0 1 0 0 0 0 0 0 0 1 0 0 0 0 1 1 0 0 0 0 0 0 1 1 0 0 0\n",
            " 0 0 0 0 0 0 0 0 0 0 0 0 0 0 0 0 0 0 0 0 1 1 1 0 0 0 0 0 0 0 0 0 0 0 0 1 1\n",
            " 0 0 1 0 0 0 0 0 0 0 0 1 0 0 0 0 0 0 0 0 1 0 0 0 0 1 1 0 0 1 0 0 0 0 1 0 1\n",
            " 0 0 0 0 0 1 0 0 0 1 0 0 0 0 0 0 0 0 1 0 0 0 1 0 0 0 0 0 1 0 0 0 1]\n",
            "\n",
            " Confusion matrix: \n",
            " [[165  62]\n",
            " [ 23  42]]\n",
            "F1 Score: 0.49704142011834324\n",
            "Accuracy: 0.708904109589041\n",
            "Precision: 0.40384615384615385\n",
            "Recall: 0.6461538461538462\n",
            "Epoch 0 | Test Loss 0.6630496382713318\n"
          ]
        },
        {
          "output_type": "stream",
          "name": "stderr",
          "text": [
            "100%|██████████| 35/35 [00:00<00:00, 68.48it/s]\n"
          ]
        },
        {
          "output_type": "stream",
          "name": "stdout",
          "text": [
            "\n",
            " Confusion matrix: \n",
            " [[371 131]\n",
            " [ 73 108]]\n",
            "F1 Score: 0.5142857142857143\n",
            "Accuracy: 0.7013177159590044\n",
            "Precision: 0.45188284518828453\n",
            "Recall: 0.5966850828729282\n",
            "Epoch 1 | Train Loss 0.8716082572937012\n"
          ]
        },
        {
          "output_type": "stream",
          "name": "stderr",
          "text": [
            "100%|██████████| 35/35 [00:00<00:00, 73.00it/s]\n"
          ]
        },
        {
          "output_type": "stream",
          "name": "stdout",
          "text": [
            "\n",
            " Confusion matrix: \n",
            " [[376 137]\n",
            " [ 68 102]]\n",
            "F1 Score: 0.49877750611246946\n",
            "Accuracy: 0.6998535871156661\n",
            "Precision: 0.42677824267782427\n",
            "Recall: 0.6\n",
            "Epoch 2 | Train Loss 0.766960084438324\n"
          ]
        },
        {
          "output_type": "stream",
          "name": "stderr",
          "text": [
            "100%|██████████| 35/35 [00:00<00:00, 70.29it/s]\n"
          ]
        },
        {
          "output_type": "stream",
          "name": "stdout",
          "text": [
            "\n",
            " Confusion matrix: \n",
            " [[382 143]\n",
            " [ 62  96]]\n",
            "F1 Score: 0.4836272040302267\n",
            "Accuracy: 0.6998535871156661\n",
            "Precision: 0.401673640167364\n",
            "Recall: 0.6075949367088608\n",
            "Epoch 3 | Train Loss 0.7354667782783508\n"
          ]
        },
        {
          "output_type": "stream",
          "name": "stderr",
          "text": [
            "100%|██████████| 35/35 [00:00<00:00, 65.36it/s]\n"
          ]
        },
        {
          "output_type": "stream",
          "name": "stdout",
          "text": [
            "\n",
            " Confusion matrix: \n",
            " [[378 145]\n",
            " [ 66  94]]\n",
            "F1 Score: 0.4711779448621554\n",
            "Accuracy: 0.6910688140556369\n",
            "Precision: 0.39330543933054396\n",
            "Recall: 0.5875\n",
            "Epoch 4 | Train Loss 0.727836549282074\n"
          ]
        },
        {
          "output_type": "stream",
          "name": "stderr",
          "text": [
            "100%|██████████| 35/35 [00:00<00:00, 66.99it/s]\n"
          ]
        },
        {
          "output_type": "stream",
          "name": "stdout",
          "text": [
            "\n",
            " Confusion matrix: \n",
            " [[388 136]\n",
            " [ 56 103]]\n",
            "F1 Score: 0.5175879396984925\n",
            "Accuracy: 0.718887262079063\n",
            "Precision: 0.4309623430962343\n",
            "Recall: 0.6477987421383647\n",
            "Epoch 5 | Train Loss 0.6624409556388855\n",
            "Predictions are [0 0 0 1 1 0 0 1 0 0 0 0 1 1 0 0 1 1 0 0 0 0 0 1 0 1 0 0 0 1 0 0 1 0 0 0 0\n",
            " 0 1 1 0 1 1 0 1 0 0 1 1 0 0 0 0 0 1 1 0 0 1 0 1 0 0 1 1 0 0 0 1 1 0 1 0 1\n",
            " 0 1 0 0 0 0 1 0 0 1 1 1 0 0 1 0 0 0 0 0 0 0 0 0 1 0 0 0 0 0 0 0 1 0 0 0 0\n",
            " 0 1 0 0 0 0 0 1 0 1 0 0 0 0 0 0 0 0 0 0 0 1 0 1 1 0 0 0 0 0 0 0 1 0 0 0 1\n",
            " 0 0 0 0 1 0 0 1 0 0 0 0 0 0 0 0 0 0 0 1 1 0 0 0 0 1 0 0 0 0 0 0 1 1 0 0 0\n",
            " 0 0 0 0 0 0 1 0 0 0 0 0 1 0 0 1 0 0 0 0 1 1 1 1 0 1 0 0 0 1 1 0 0 0 0 1 0\n",
            " 0 0 0 1 0 0 0 1 0 0 0 1 1 0 0 0 0 0 0 1 1 0 0 0 1 1 0 0 0 1 0 0 0 0 0 0 0\n",
            " 0 0 0 0 0 1 0 0 0 1 0 0 0 0 0 0 0 0 1 0 0 0 1 1 1 0 0 0 1 0 0 0 1]\n",
            "\n",
            " Confusion matrix: \n",
            " [[156  57]\n",
            " [ 32  47]]\n",
            "F1 Score: 0.5136612021857923\n",
            "Accuracy: 0.6952054794520548\n",
            "Precision: 0.4519230769230769\n",
            "Recall: 0.5949367088607594\n",
            "Epoch 5 | Test Loss 0.5406238436698914\n"
          ]
        },
        {
          "output_type": "stream",
          "name": "stderr",
          "text": [
            "100%|██████████| 35/35 [00:00<00:00, 126.42it/s]\n"
          ]
        },
        {
          "output_type": "stream",
          "name": "stdout",
          "text": [
            "\n",
            " Confusion matrix: \n",
            " [[382 138]\n",
            " [ 62 101]]\n",
            "F1 Score: 0.5024875621890547\n",
            "Accuracy: 0.7071742313323572\n",
            "Precision: 0.4225941422594142\n",
            "Recall: 0.6196319018404908\n",
            "Epoch 6 | Train Loss 0.7006198763847351\n"
          ]
        },
        {
          "output_type": "stream",
          "name": "stderr",
          "text": [
            "100%|██████████| 35/35 [00:00<00:00, 174.06it/s]\n"
          ]
        },
        {
          "output_type": "stream",
          "name": "stdout",
          "text": [
            "\n",
            " Confusion matrix: \n",
            " [[387 135]\n",
            " [ 57 104]]\n",
            "F1 Score: 0.52\n",
            "Accuracy: 0.718887262079063\n",
            "Precision: 0.4351464435146444\n",
            "Recall: 0.6459627329192547\n",
            "Epoch 7 | Train Loss 0.834406852722168\n"
          ]
        },
        {
          "output_type": "stream",
          "name": "stderr",
          "text": [
            "100%|██████████| 35/35 [00:00<00:00, 236.30it/s]\n"
          ]
        },
        {
          "output_type": "stream",
          "name": "stdout",
          "text": [
            "\n",
            " Confusion matrix: \n",
            " [[389 134]\n",
            " [ 55 105]]\n",
            "F1 Score: 0.5263157894736842\n",
            "Accuracy: 0.7232796486090776\n",
            "Precision: 0.4393305439330544\n",
            "Recall: 0.65625\n",
            "Epoch 8 | Train Loss 0.8506906032562256\n"
          ]
        },
        {
          "output_type": "stream",
          "name": "stderr",
          "text": [
            "100%|██████████| 35/35 [00:00<00:00, 204.00it/s]\n"
          ]
        },
        {
          "output_type": "stream",
          "name": "stdout",
          "text": [
            "\n",
            " Confusion matrix: \n",
            " [[394 141]\n",
            " [ 50  98]]\n",
            "F1 Score: 0.5064599483204134\n",
            "Accuracy: 0.7203513909224012\n",
            "Precision: 0.4100418410041841\n",
            "Recall: 0.6621621621621622\n",
            "Epoch 9 | Train Loss 0.7342832684516907\n"
          ]
        },
        {
          "output_type": "stream",
          "name": "stderr",
          "text": [
            "100%|██████████| 35/35 [00:00<00:00, 226.45it/s]\n"
          ]
        },
        {
          "output_type": "stream",
          "name": "stdout",
          "text": [
            "\n",
            " Confusion matrix: \n",
            " [[386 137]\n",
            " [ 58 102]]\n",
            "F1 Score: 0.5112781954887218\n",
            "Accuracy: 0.7144948755490483\n",
            "Precision: 0.42677824267782427\n",
            "Recall: 0.6375\n",
            "Epoch 10 | Train Loss 0.8316812515258789\n",
            "Predictions are [0 0 0 1 1 0 0 1 0 0 0 0 1 1 0 0 0 1 0 0 0 0 0 1 0 1 0 0 0 1 0 0 1 0 0 0 0\n",
            " 0 0 1 0 1 1 0 1 0 0 1 1 0 0 0 0 0 1 1 0 0 0 0 1 0 0 1 1 0 0 0 1 1 0 1 0 1\n",
            " 0 1 0 0 0 0 1 0 0 1 1 1 0 0 1 0 0 0 0 0 0 0 0 0 1 0 0 0 0 0 0 0 1 0 0 0 0\n",
            " 0 1 0 0 0 0 0 1 0 1 0 0 0 0 0 0 0 0 0 0 0 1 0 0 1 0 0 0 0 0 0 0 1 0 0 0 1\n",
            " 0 0 0 0 1 0 0 1 0 0 0 0 0 0 0 0 0 0 0 1 1 0 0 0 0 1 0 0 0 0 0 0 0 1 0 0 0\n",
            " 0 0 0 0 0 0 1 0 0 0 0 0 1 0 0 1 0 0 0 0 1 1 1 1 0 1 0 0 0 1 1 0 0 0 0 1 0\n",
            " 0 0 0 1 0 0 0 1 0 0 0 1 1 0 0 0 0 0 0 1 1 0 0 0 1 1 0 0 0 1 0 0 0 0 0 0 0\n",
            " 0 0 0 0 0 1 0 0 0 1 0 0 0 0 0 0 0 0 1 0 0 0 1 1 1 0 0 0 1 0 0 0 1]\n",
            "\n",
            " Confusion matrix: \n",
            " [[159  59]\n",
            " [ 29  45]]\n",
            "F1 Score: 0.5056179775280899\n",
            "Accuracy: 0.6986301369863014\n",
            "Precision: 0.4326923076923077\n",
            "Recall: 0.6081081081081081\n",
            "Epoch 10 | Test Loss 0.5297242999076843\n"
          ]
        },
        {
          "output_type": "stream",
          "name": "stderr",
          "text": [
            "100%|██████████| 35/35 [00:00<00:00, 213.32it/s]\n"
          ]
        },
        {
          "output_type": "stream",
          "name": "stdout",
          "text": [
            "\n",
            " Confusion matrix: \n",
            " [[389 138]\n",
            " [ 55 101]]\n",
            "F1 Score: 0.5113924050632911\n",
            "Accuracy: 0.7174231332357247\n",
            "Precision: 0.4225941422594142\n",
            "Recall: 0.6474358974358975\n",
            "Epoch 11 | Train Loss 0.9811453819274902\n"
          ]
        },
        {
          "output_type": "stream",
          "name": "stderr",
          "text": [
            "100%|██████████| 35/35 [00:00<00:00, 230.60it/s]\n"
          ]
        },
        {
          "output_type": "stream",
          "name": "stdout",
          "text": [
            "\n",
            " Confusion matrix: \n",
            " [[380 131]\n",
            " [ 64 108]]\n",
            "F1 Score: 0.5255474452554745\n",
            "Accuracy: 0.7144948755490483\n",
            "Precision: 0.45188284518828453\n",
            "Recall: 0.627906976744186\n",
            "Epoch 12 | Train Loss 0.7995319366455078\n"
          ]
        },
        {
          "output_type": "stream",
          "name": "stderr",
          "text": [
            "100%|██████████| 35/35 [00:00<00:00, 224.10it/s]\n"
          ]
        },
        {
          "output_type": "stream",
          "name": "stdout",
          "text": [
            "\n",
            " Confusion matrix: \n",
            " [[387 136]\n",
            " [ 57 103]]\n",
            "F1 Score: 0.5162907268170426\n",
            "Accuracy: 0.7174231332357247\n",
            "Precision: 0.4309623430962343\n",
            "Recall: 0.64375\n",
            "Epoch 13 | Train Loss 0.7573361396789551\n"
          ]
        },
        {
          "output_type": "stream",
          "name": "stderr",
          "text": [
            "100%|██████████| 35/35 [00:00<00:00, 214.24it/s]\n"
          ]
        },
        {
          "output_type": "stream",
          "name": "stdout",
          "text": [
            "\n",
            " Confusion matrix: \n",
            " [[377 132]\n",
            " [ 67 107]]\n",
            "F1 Score: 0.5181598062953995\n",
            "Accuracy: 0.7086383601756955\n",
            "Precision: 0.4476987447698745\n",
            "Recall: 0.6149425287356322\n",
            "Epoch 14 | Train Loss 0.7721577286720276\n"
          ]
        },
        {
          "output_type": "stream",
          "name": "stderr",
          "text": [
            "100%|██████████| 35/35 [00:00<00:00, 229.07it/s]\n"
          ]
        },
        {
          "output_type": "stream",
          "name": "stdout",
          "text": [
            "\n",
            " Confusion matrix: \n",
            " [[379 130]\n",
            " [ 65 109]]\n",
            "F1 Score: 0.5278450363196125\n",
            "Accuracy: 0.7144948755490483\n",
            "Precision: 0.4560669456066946\n",
            "Recall: 0.6264367816091954\n",
            "Epoch 15 | Train Loss 0.7834954261779785\n",
            "Predictions are [0 0 0 1 1 0 0 1 0 0 0 0 1 1 0 0 1 1 0 1 1 0 0 1 0 1 0 0 0 1 0 0 1 0 0 0 0\n",
            " 0 0 1 0 1 1 0 1 0 0 1 1 0 0 0 0 0 1 1 0 0 1 0 1 0 0 1 1 0 0 0 1 1 0 1 0 1\n",
            " 0 1 0 0 0 0 1 0 0 1 1 1 0 0 1 0 0 1 0 0 1 1 0 0 1 0 0 0 0 0 0 0 1 0 0 0 1\n",
            " 0 1 0 0 0 0 0 1 0 1 0 0 0 0 0 0 0 0 0 0 0 1 0 0 1 0 0 0 0 0 0 1 1 0 0 0 1\n",
            " 0 0 0 0 1 0 0 1 0 0 0 0 0 0 0 0 0 0 0 1 0 0 0 0 0 1 0 0 0 0 0 0 1 1 0 0 0\n",
            " 0 0 0 0 0 0 1 0 0 0 0 0 1 0 0 1 0 0 0 0 1 1 1 1 0 1 1 0 0 1 1 0 0 0 0 1 1\n",
            " 0 0 1 1 0 0 0 1 0 0 0 1 1 0 0 0 0 0 0 1 1 0 0 0 1 1 0 0 0 1 0 0 0 0 0 0 0\n",
            " 0 0 1 0 0 1 0 0 0 1 0 0 0 0 0 0 0 0 1 0 0 0 1 1 1 0 0 0 1 0 0 0 1]\n",
            "\n",
            " Confusion matrix: \n",
            " [[153  52]\n",
            " [ 35  52]]\n",
            "F1 Score: 0.5445026178010471\n",
            "Accuracy: 0.702054794520548\n",
            "Precision: 0.5\n",
            "Recall: 0.5977011494252874\n",
            "Epoch 15 | Test Loss 0.5248971581459045\n"
          ]
        },
        {
          "output_type": "stream",
          "name": "stderr",
          "text": [
            "100%|██████████| 35/35 [00:00<00:00, 222.01it/s]\n"
          ]
        },
        {
          "output_type": "stream",
          "name": "stdout",
          "text": [
            "\n",
            " Confusion matrix: \n",
            " [[379 127]\n",
            " [ 65 112]]\n",
            "F1 Score: 0.5384615384615384\n",
            "Accuracy: 0.718887262079063\n",
            "Precision: 0.4686192468619247\n",
            "Recall: 0.632768361581921\n",
            "Epoch 16 | Train Loss 0.6720073223114014\n"
          ]
        },
        {
          "output_type": "stream",
          "name": "stderr",
          "text": [
            "100%|██████████| 35/35 [00:00<00:00, 233.57it/s]\n"
          ]
        },
        {
          "output_type": "stream",
          "name": "stdout",
          "text": [
            "\n",
            " Confusion matrix: \n",
            " [[373 129]\n",
            " [ 71 110]]\n",
            "F1 Score: 0.5238095238095238\n",
            "Accuracy: 0.7071742313323572\n",
            "Precision: 0.4602510460251046\n",
            "Recall: 0.6077348066298343\n",
            "Epoch 17 | Train Loss 0.6928609013557434\n"
          ]
        },
        {
          "output_type": "stream",
          "name": "stderr",
          "text": [
            "100%|██████████| 35/35 [00:00<00:00, 216.14it/s]\n"
          ]
        },
        {
          "output_type": "stream",
          "name": "stdout",
          "text": [
            "\n",
            " Confusion matrix: \n",
            " [[386 137]\n",
            " [ 58 102]]\n",
            "F1 Score: 0.5112781954887218\n",
            "Accuracy: 0.7144948755490483\n",
            "Precision: 0.42677824267782427\n",
            "Recall: 0.6375\n",
            "Epoch 18 | Train Loss 0.4999649226665497\n"
          ]
        },
        {
          "output_type": "stream",
          "name": "stderr",
          "text": [
            "100%|██████████| 35/35 [00:00<00:00, 228.20it/s]\n"
          ]
        },
        {
          "output_type": "stream",
          "name": "stdout",
          "text": [
            "\n",
            " Confusion matrix: \n",
            " [[382 124]\n",
            " [ 62 115]]\n",
            "F1 Score: 0.5528846153846153\n",
            "Accuracy: 0.7276720351390923\n",
            "Precision: 0.4811715481171548\n",
            "Recall: 0.6497175141242938\n",
            "Epoch 19 | Train Loss 0.6991556286811829\n"
          ]
        },
        {
          "output_type": "stream",
          "name": "stderr",
          "text": [
            "100%|██████████| 35/35 [00:00<00:00, 219.05it/s]\n"
          ]
        },
        {
          "output_type": "stream",
          "name": "stdout",
          "text": [
            "\n",
            " Confusion matrix: \n",
            " [[376 136]\n",
            " [ 68 103]]\n",
            "F1 Score: 0.5024390243902439\n",
            "Accuracy: 0.7013177159590044\n",
            "Precision: 0.4309623430962343\n",
            "Recall: 0.6023391812865497\n",
            "Epoch 20 | Train Loss 0.6511202454566956\n",
            "Predictions are [0 0 0 1 1 0 0 1 0 0 0 0 1 1 0 0 1 1 0 0 0 0 0 1 0 1 0 0 0 1 0 0 1 0 0 0 0\n",
            " 0 1 1 0 1 1 0 1 0 0 1 1 0 0 0 0 0 1 1 0 0 1 0 1 0 0 1 1 0 0 0 1 1 0 1 0 1\n",
            " 0 1 0 0 0 0 1 0 0 1 1 1 0 0 1 0 0 1 0 0 1 0 0 0 1 0 0 0 0 0 0 0 1 0 0 0 1\n",
            " 0 1 0 0 0 0 0 1 0 1 0 0 0 0 0 0 0 0 0 0 0 1 0 0 1 0 0 0 0 0 0 1 1 0 0 0 1\n",
            " 0 0 0 0 1 0 0 1 0 0 0 0 0 0 0 0 0 0 0 1 0 0 0 0 0 1 0 0 0 0 0 0 1 1 0 0 0\n",
            " 0 0 0 1 0 0 1 0 0 0 0 0 1 0 0 1 0 0 0 0 1 1 1 1 0 1 1 0 0 1 1 0 0 0 0 1 0\n",
            " 0 0 1 1 0 0 1 1 0 0 0 1 1 0 0 0 0 0 0 1 1 0 0 0 1 1 0 0 0 1 0 0 0 0 1 0 0\n",
            " 0 0 1 0 0 1 0 1 0 1 0 0 0 0 0 0 0 0 1 0 0 0 1 1 1 0 0 0 1 0 0 0 1]\n",
            "\n",
            " Confusion matrix: \n",
            " [[152  52]\n",
            " [ 36  52]]\n",
            "F1 Score: 0.5416666666666667\n",
            "Accuracy: 0.6986301369863014\n",
            "Precision: 0.5\n",
            "Recall: 0.5909090909090909\n",
            "Epoch 20 | Test Loss 0.5354630947113037\n"
          ]
        },
        {
          "output_type": "stream",
          "name": "stderr",
          "text": [
            "100%|██████████| 35/35 [00:00<00:00, 220.85it/s]\n"
          ]
        },
        {
          "output_type": "stream",
          "name": "stdout",
          "text": [
            "\n",
            " Confusion matrix: \n",
            " [[374 134]\n",
            " [ 70 105]]\n",
            "F1 Score: 0.5072463768115942\n",
            "Accuracy: 0.7013177159590044\n",
            "Precision: 0.4393305439330544\n",
            "Recall: 0.6\n",
            "Epoch 21 | Train Loss 0.8507350087165833\n"
          ]
        },
        {
          "output_type": "stream",
          "name": "stderr",
          "text": [
            "100%|██████████| 35/35 [00:00<00:00, 226.72it/s]\n"
          ]
        },
        {
          "output_type": "stream",
          "name": "stdout",
          "text": [
            "\n",
            " Confusion matrix: \n",
            " [[383 126]\n",
            " [ 61 113]]\n",
            "F1 Score: 0.5472154963680388\n",
            "Accuracy: 0.726207906295754\n",
            "Precision: 0.47280334728033474\n",
            "Recall: 0.6494252873563219\n",
            "Epoch 22 | Train Loss 0.6929309964179993\n"
          ]
        },
        {
          "output_type": "stream",
          "name": "stderr",
          "text": [
            "100%|██████████| 35/35 [00:00<00:00, 237.49it/s]\n"
          ]
        },
        {
          "output_type": "stream",
          "name": "stdout",
          "text": [
            "\n",
            " Confusion matrix: \n",
            " [[378 125]\n",
            " [ 66 114]]\n",
            "F1 Score: 0.5441527446300717\n",
            "Accuracy: 0.7203513909224012\n",
            "Precision: 0.4769874476987448\n",
            "Recall: 0.6333333333333333\n",
            "Epoch 23 | Train Loss 0.6949625015258789\n"
          ]
        },
        {
          "output_type": "stream",
          "name": "stderr",
          "text": [
            "100%|██████████| 35/35 [00:00<00:00, 210.04it/s]\n"
          ]
        },
        {
          "output_type": "stream",
          "name": "stdout",
          "text": [
            "\n",
            " Confusion matrix: \n",
            " [[394 124]\n",
            " [ 50 115]]\n",
            "F1 Score: 0.5693069306930693\n",
            "Accuracy: 0.7452415812591509\n",
            "Precision: 0.4811715481171548\n",
            "Recall: 0.696969696969697\n",
            "Epoch 24 | Train Loss 0.654346227645874\n"
          ]
        },
        {
          "output_type": "stream",
          "name": "stderr",
          "text": [
            "100%|██████████| 35/35 [00:00<00:00, 127.75it/s]\n"
          ]
        },
        {
          "output_type": "stream",
          "name": "stdout",
          "text": [
            "\n",
            " Confusion matrix: \n",
            " [[378 136]\n",
            " [ 66 103]]\n",
            "F1 Score: 0.5049019607843137\n",
            "Accuracy: 0.7042459736456809\n",
            "Precision: 0.4309623430962343\n",
            "Recall: 0.6094674556213018\n",
            "Epoch 25 | Train Loss 0.5820230841636658\n",
            "Predictions are [0 0 0 1 1 0 0 1 0 0 0 0 1 1 0 0 1 1 0 0 0 0 0 1 0 1 0 0 0 1 0 0 1 0 0 0 0\n",
            " 0 1 1 0 1 1 0 1 0 0 1 1 0 0 0 0 0 1 1 0 0 1 0 1 0 0 1 1 0 0 0 1 1 0 1 0 1\n",
            " 0 1 0 0 0 0 1 0 0 1 1 1 0 0 1 0 0 0 0 0 1 0 0 0 1 0 0 0 0 0 0 0 1 0 0 0 1\n",
            " 0 1 0 0 0 0 0 1 0 1 0 0 0 0 0 0 0 0 0 0 0 1 0 0 1 0 0 0 0 0 0 1 1 0 0 0 1\n",
            " 0 0 0 0 1 0 0 1 0 0 0 0 0 0 0 0 0 0 0 1 0 0 0 0 0 1 0 0 0 0 0 0 1 1 0 0 0\n",
            " 0 0 0 1 0 0 1 0 0 0 0 0 1 0 0 1 0 0 0 0 1 1 1 1 0 1 0 0 0 1 1 0 0 0 0 1 0\n",
            " 0 0 1 1 0 0 1 1 0 0 0 1 1 0 0 0 0 0 0 1 1 0 0 0 1 1 0 0 0 1 0 0 0 0 1 0 0\n",
            " 0 0 0 0 0 1 0 0 0 1 0 0 0 1 0 0 0 0 1 0 0 0 1 1 1 0 0 0 1 0 0 0 1]\n",
            "\n",
            " Confusion matrix: \n",
            " [[154  53]\n",
            " [ 34  51]]\n",
            "F1 Score: 0.5396825396825397\n",
            "Accuracy: 0.702054794520548\n",
            "Precision: 0.49038461538461536\n",
            "Recall: 0.6\n",
            "Epoch 25 | Test Loss 0.540989100933075\n"
          ]
        },
        {
          "output_type": "stream",
          "name": "stderr",
          "text": [
            "100%|██████████| 35/35 [00:00<00:00, 148.60it/s]\n"
          ]
        },
        {
          "output_type": "stream",
          "name": "stdout",
          "text": [
            "\n",
            " Confusion matrix: \n",
            " [[386 126]\n",
            " [ 58 113]]\n",
            "F1 Score: 0.551219512195122\n",
            "Accuracy: 0.7306002928257687\n",
            "Precision: 0.47280334728033474\n",
            "Recall: 0.6608187134502924\n",
            "Epoch 26 | Train Loss 0.7561115622520447\n"
          ]
        },
        {
          "output_type": "stream",
          "name": "stderr",
          "text": [
            "100%|██████████| 35/35 [00:00<00:00, 159.45it/s]\n"
          ]
        },
        {
          "output_type": "stream",
          "name": "stdout",
          "text": [
            "\n",
            " Confusion matrix: \n",
            " [[384 128]\n",
            " [ 60 111]]\n",
            "F1 Score: 0.5414634146341464\n",
            "Accuracy: 0.7247437774524158\n",
            "Precision: 0.46443514644351463\n",
            "Recall: 0.6491228070175439\n",
            "Epoch 27 | Train Loss 0.6562480330467224\n"
          ]
        },
        {
          "output_type": "stream",
          "name": "stderr",
          "text": [
            "100%|██████████| 35/35 [00:00<00:00, 158.85it/s]\n"
          ]
        },
        {
          "output_type": "stream",
          "name": "stdout",
          "text": [
            "\n",
            " Confusion matrix: \n",
            " [[384 121]\n",
            " [ 60 118]]\n",
            "F1 Score: 0.565947242206235\n",
            "Accuracy: 0.7349926793557833\n",
            "Precision: 0.49372384937238495\n",
            "Recall: 0.6629213483146067\n",
            "Epoch 28 | Train Loss 0.9396636486053467\n"
          ]
        },
        {
          "output_type": "stream",
          "name": "stderr",
          "text": [
            "100%|██████████| 35/35 [00:00<00:00, 149.13it/s]\n"
          ]
        },
        {
          "output_type": "stream",
          "name": "stdout",
          "text": [
            "\n",
            " Confusion matrix: \n",
            " [[383 127]\n",
            " [ 61 112]]\n",
            "F1 Score: 0.5436893203883495\n",
            "Accuracy: 0.7247437774524158\n",
            "Precision: 0.4686192468619247\n",
            "Recall: 0.6473988439306358\n",
            "Epoch 29 | Train Loss 0.6775519251823425\n"
          ]
        },
        {
          "output_type": "stream",
          "name": "stderr",
          "text": [
            "100%|██████████| 35/35 [00:00<00:00, 147.11it/s]\n"
          ]
        },
        {
          "output_type": "stream",
          "name": "stdout",
          "text": [
            "\n",
            " Confusion matrix: \n",
            " [[385 127]\n",
            " [ 59 112]]\n",
            "F1 Score: 0.5463414634146342\n",
            "Accuracy: 0.7276720351390923\n",
            "Precision: 0.4686192468619247\n",
            "Recall: 0.6549707602339181\n",
            "Epoch 30 | Train Loss 0.8846418857574463\n",
            "Predictions are [1 0 0 1 1 0 0 1 0 0 0 0 1 1 0 0 1 1 0 0 0 0 0 1 1 1 0 0 0 1 0 0 1 0 0 0 0\n",
            " 0 1 1 0 1 1 0 1 0 0 1 1 0 0 0 0 0 1 1 0 0 1 0 1 0 0 1 1 0 0 0 1 1 0 1 0 1\n",
            " 0 1 0 0 0 0 1 0 0 1 1 1 0 0 1 0 0 0 0 0 1 0 0 0 1 0 0 0 0 0 0 0 1 0 0 0 1\n",
            " 0 1 0 0 0 0 0 1 0 1 1 0 0 0 0 0 0 0 0 0 0 1 0 0 1 0 0 0 1 0 0 1 1 0 0 0 1\n",
            " 0 0 0 0 1 0 0 1 1 1 0 0 0 0 0 0 0 0 0 1 0 0 0 0 0 1 0 0 0 0 0 0 1 1 0 0 0\n",
            " 0 0 0 0 0 0 1 0 0 0 0 0 1 0 0 1 0 0 0 0 1 1 1 1 0 1 0 0 0 1 1 0 0 0 0 1 1\n",
            " 0 0 1 0 0 0 1 1 0 0 0 1 1 0 0 0 0 0 0 1 1 0 0 0 1 1 1 0 0 1 0 0 0 0 1 0 0\n",
            " 0 0 0 0 0 1 0 1 0 1 0 0 0 1 0 0 0 0 1 0 0 0 1 1 1 0 0 0 1 0 0 0 1]\n",
            "\n",
            " Confusion matrix: \n",
            " [[151  49]\n",
            " [ 37  55]]\n",
            "F1 Score: 0.5612244897959183\n",
            "Accuracy: 0.7054794520547946\n",
            "Precision: 0.5288461538461539\n",
            "Recall: 0.5978260869565217\n",
            "Epoch 30 | Test Loss 0.5396320223808289\n"
          ]
        },
        {
          "output_type": "stream",
          "name": "stderr",
          "text": [
            "100%|██████████| 35/35 [00:00<00:00, 164.46it/s]\n"
          ]
        },
        {
          "output_type": "stream",
          "name": "stdout",
          "text": [
            "\n",
            " Confusion matrix: \n",
            " [[383 123]\n",
            " [ 61 116]]\n",
            "F1 Score: 0.5576923076923077\n",
            "Accuracy: 0.7306002928257687\n",
            "Precision: 0.48535564853556484\n",
            "Recall: 0.655367231638418\n",
            "Epoch 31 | Train Loss 0.7349813580513\n"
          ]
        },
        {
          "output_type": "stream",
          "name": "stderr",
          "text": [
            "100%|██████████| 35/35 [00:00<00:00, 165.99it/s]\n"
          ]
        },
        {
          "output_type": "stream",
          "name": "stdout",
          "text": [
            "\n",
            " Confusion matrix: \n",
            " [[386 127]\n",
            " [ 58 112]]\n",
            "F1 Score: 0.547677261613692\n",
            "Accuracy: 0.7291361639824304\n",
            "Precision: 0.4686192468619247\n",
            "Recall: 0.6588235294117647\n",
            "Epoch 32 | Train Loss 0.8510618805885315\n"
          ]
        },
        {
          "output_type": "stream",
          "name": "stderr",
          "text": [
            "100%|██████████| 35/35 [00:00<00:00, 148.17it/s]\n"
          ]
        },
        {
          "output_type": "stream",
          "name": "stdout",
          "text": [
            "\n",
            " Confusion matrix: \n",
            " [[378 123]\n",
            " [ 66 116]]\n",
            "F1 Score: 0.5510688836104513\n",
            "Accuracy: 0.7232796486090776\n",
            "Precision: 0.48535564853556484\n",
            "Recall: 0.6373626373626373\n",
            "Epoch 33 | Train Loss 0.6629399061203003\n"
          ]
        },
        {
          "output_type": "stream",
          "name": "stderr",
          "text": [
            "100%|██████████| 35/35 [00:00<00:00, 144.83it/s]\n"
          ]
        },
        {
          "output_type": "stream",
          "name": "stdout",
          "text": [
            "\n",
            " Confusion matrix: \n",
            " [[392 117]\n",
            " [ 52 122]]\n",
            "F1 Score: 0.5907990314769975\n",
            "Accuracy: 0.7525622254758418\n",
            "Precision: 0.5104602510460251\n",
            "Recall: 0.7011494252873564\n",
            "Epoch 34 | Train Loss 0.6300567984580994\n"
          ]
        },
        {
          "output_type": "stream",
          "name": "stderr",
          "text": [
            "100%|██████████| 35/35 [00:00<00:00, 151.24it/s]\n"
          ]
        },
        {
          "output_type": "stream",
          "name": "stdout",
          "text": [
            "\n",
            " Confusion matrix: \n",
            " [[380 121]\n",
            " [ 64 118]]\n",
            "F1 Score: 0.5605700712589073\n",
            "Accuracy: 0.7291361639824304\n",
            "Precision: 0.49372384937238495\n",
            "Recall: 0.6483516483516484\n",
            "Epoch 35 | Train Loss 0.511191189289093\n",
            "Predictions are [1 0 0 1 0 0 0 1 0 0 0 0 1 1 0 0 0 1 0 0 0 0 0 1 1 0 0 0 0 1 0 0 1 0 0 0 0\n",
            " 0 0 1 0 1 1 0 1 0 0 1 1 0 0 0 0 0 1 1 0 0 0 0 1 0 0 1 1 0 0 0 1 1 0 1 0 1\n",
            " 0 1 0 0 0 0 1 0 0 1 1 1 0 0 1 0 0 0 0 0 1 0 0 0 1 0 0 0 0 0 0 0 1 0 0 0 1\n",
            " 0 1 0 0 0 0 0 1 0 1 1 0 0 0 0 0 0 0 0 0 0 1 0 0 1 0 0 0 0 0 0 1 1 0 0 0 1\n",
            " 0 0 0 0 1 0 0 1 1 0 0 0 0 0 0 0 0 0 0 1 0 0 0 0 0 1 0 0 0 0 0 0 1 1 0 0 0\n",
            " 0 0 0 0 0 0 1 0 0 0 0 0 1 0 0 1 0 0 0 0 1 1 1 1 0 1 0 0 0 1 1 0 0 0 0 1 0\n",
            " 0 0 1 0 0 0 0 1 0 0 0 1 1 0 0 0 0 0 0 1 1 0 0 0 1 1 0 0 0 1 0 0 0 0 1 0 0\n",
            " 0 0 0 0 0 1 0 0 0 1 0 0 0 1 0 0 0 0 1 0 0 0 1 0 0 0 0 0 1 0 0 0 1]\n",
            "\n",
            " Confusion matrix: \n",
            " [[156  57]\n",
            " [ 32  47]]\n",
            "F1 Score: 0.5136612021857923\n",
            "Accuracy: 0.6952054794520548\n",
            "Precision: 0.4519230769230769\n",
            "Recall: 0.5949367088607594\n",
            "Epoch 35 | Test Loss 0.5510761737823486\n"
          ]
        },
        {
          "output_type": "stream",
          "name": "stderr",
          "text": [
            "100%|██████████| 35/35 [00:00<00:00, 131.77it/s]\n"
          ]
        },
        {
          "output_type": "stream",
          "name": "stdout",
          "text": [
            "\n",
            " Confusion matrix: \n",
            " [[378 118]\n",
            " [ 66 121]]\n",
            "F1 Score: 0.568075117370892\n",
            "Accuracy: 0.7306002928257687\n",
            "Precision: 0.5062761506276151\n",
            "Recall: 0.6470588235294118\n",
            "Epoch 36 | Train Loss 0.4016631841659546\n"
          ]
        },
        {
          "output_type": "stream",
          "name": "stderr",
          "text": [
            "100%|██████████| 35/35 [00:00<00:00, 131.24it/s]\n"
          ]
        },
        {
          "output_type": "stream",
          "name": "stdout",
          "text": [
            "\n",
            " Confusion matrix: \n",
            " [[379 123]\n",
            " [ 65 116]]\n",
            "F1 Score: 0.5523809523809524\n",
            "Accuracy: 0.7247437774524158\n",
            "Precision: 0.48535564853556484\n",
            "Recall: 0.6408839779005525\n",
            "Epoch 37 | Train Loss 0.6997659802436829\n"
          ]
        },
        {
          "output_type": "stream",
          "name": "stderr",
          "text": [
            "100%|██████████| 35/35 [00:00<00:00, 129.59it/s]\n"
          ]
        },
        {
          "output_type": "stream",
          "name": "stdout",
          "text": [
            "\n",
            " Confusion matrix: \n",
            " [[381 125]\n",
            " [ 63 114]]\n",
            "F1 Score: 0.5480769230769231\n",
            "Accuracy: 0.7247437774524158\n",
            "Precision: 0.4769874476987448\n",
            "Recall: 0.6440677966101694\n",
            "Epoch 38 | Train Loss 0.5171721577644348\n"
          ]
        },
        {
          "output_type": "stream",
          "name": "stderr",
          "text": [
            "100%|██████████| 35/35 [00:00<00:00, 123.95it/s]\n"
          ]
        },
        {
          "output_type": "stream",
          "name": "stdout",
          "text": [
            "\n",
            " Confusion matrix: \n",
            " [[377 116]\n",
            " [ 67 123]]\n",
            "F1 Score: 0.5734265734265734\n",
            "Accuracy: 0.7320644216691069\n",
            "Precision: 0.5146443514644351\n",
            "Recall: 0.6473684210526316\n",
            "Epoch 39 | Train Loss 0.6993679404258728\n"
          ]
        },
        {
          "output_type": "stream",
          "name": "stderr",
          "text": [
            "100%|██████████| 35/35 [00:00<00:00, 147.22it/s]\n"
          ]
        },
        {
          "output_type": "stream",
          "name": "stdout",
          "text": [
            "\n",
            " Confusion matrix: \n",
            " [[390 117]\n",
            " [ 54 122]]\n",
            "F1 Score: 0.5879518072289156\n",
            "Accuracy: 0.7496339677891655\n",
            "Precision: 0.5104602510460251\n",
            "Recall: 0.6931818181818182\n",
            "Epoch 40 | Train Loss 0.6281713843345642\n",
            "Predictions are [1 0 0 1 0 0 0 1 0 0 0 0 1 1 0 0 0 1 0 0 0 0 0 1 1 0 0 0 0 1 0 0 1 0 0 0 0\n",
            " 0 0 1 0 1 1 0 1 0 0 1 1 0 0 0 0 0 1 1 0 0 0 0 1 0 0 1 1 0 0 0 1 1 0 1 0 1\n",
            " 0 1 0 0 0 0 1 0 0 1 1 1 0 0 1 0 0 0 0 0 1 0 0 0 1 0 0 0 0 0 0 0 1 0 0 0 1\n",
            " 0 1 0 0 0 0 0 1 0 1 1 0 0 0 0 0 0 0 0 0 0 1 0 0 1 0 0 0 0 0 0 1 1 0 0 0 1\n",
            " 0 0 0 0 1 0 0 1 1 0 0 0 0 0 0 0 0 0 0 1 0 0 0 0 0 1 0 0 0 0 0 0 1 1 0 0 0\n",
            " 0 0 0 0 0 0 1 0 0 0 0 0 1 0 0 1 0 0 0 0 1 1 1 1 0 1 0 0 0 1 1 0 0 0 0 1 0\n",
            " 0 0 1 0 0 0 0 1 0 0 0 1 1 0 0 0 0 0 0 1 1 0 0 0 1 1 0 0 0 1 0 0 0 0 1 0 0\n",
            " 0 0 0 0 1 1 0 0 0 1 0 0 0 1 0 0 0 0 1 0 0 0 1 0 0 0 0 0 1 0 0 0 1]\n",
            "\n",
            " Confusion matrix: \n",
            " [[156  56]\n",
            " [ 32  48]]\n",
            "F1 Score: 0.5217391304347826\n",
            "Accuracy: 0.6986301369863014\n",
            "Precision: 0.46153846153846156\n",
            "Recall: 0.6\n",
            "Epoch 40 | Test Loss 0.5498514771461487\n"
          ]
        },
        {
          "output_type": "stream",
          "name": "stderr",
          "text": [
            "100%|██████████| 35/35 [00:00<00:00, 160.88it/s]\n"
          ]
        },
        {
          "output_type": "stream",
          "name": "stdout",
          "text": [
            "\n",
            " Confusion matrix: \n",
            " [[380 126]\n",
            " [ 64 113]]\n",
            "F1 Score: 0.5432692307692308\n",
            "Accuracy: 0.7218155197657394\n",
            "Precision: 0.47280334728033474\n",
            "Recall: 0.6384180790960452\n",
            "Epoch 41 | Train Loss 0.7092000842094421\n"
          ]
        },
        {
          "output_type": "stream",
          "name": "stderr",
          "text": [
            "100%|██████████| 35/35 [00:00<00:00, 164.42it/s]\n"
          ]
        },
        {
          "output_type": "stream",
          "name": "stdout",
          "text": [
            "\n",
            " Confusion matrix: \n",
            " [[382 123]\n",
            " [ 62 116]]\n",
            "F1 Score: 0.5563549160671464\n",
            "Accuracy: 0.7291361639824304\n",
            "Precision: 0.48535564853556484\n",
            "Recall: 0.651685393258427\n",
            "Epoch 42 | Train Loss 0.5165677666664124\n"
          ]
        },
        {
          "output_type": "stream",
          "name": "stderr",
          "text": [
            "100%|██████████| 35/35 [00:00<00:00, 155.18it/s]\n"
          ]
        },
        {
          "output_type": "stream",
          "name": "stdout",
          "text": [
            "\n",
            " Confusion matrix: \n",
            " [[377 123]\n",
            " [ 67 116]]\n",
            "F1 Score: 0.5497630331753555\n",
            "Accuracy: 0.7218155197657394\n",
            "Precision: 0.48535564853556484\n",
            "Recall: 0.6338797814207651\n",
            "Epoch 43 | Train Loss 0.4854167401790619\n"
          ]
        },
        {
          "output_type": "stream",
          "name": "stderr",
          "text": [
            "100%|██████████| 35/35 [00:00<00:00, 134.25it/s]\n"
          ]
        },
        {
          "output_type": "stream",
          "name": "stdout",
          "text": [
            "\n",
            " Confusion matrix: \n",
            " [[381 120]\n",
            " [ 63 119]]\n",
            "F1 Score: 0.5653206650831355\n",
            "Accuracy: 0.7320644216691069\n",
            "Precision: 0.497907949790795\n",
            "Recall: 0.6538461538461539\n",
            "Epoch 44 | Train Loss 0.6149992346763611\n"
          ]
        },
        {
          "output_type": "stream",
          "name": "stderr",
          "text": [
            "100%|██████████| 35/35 [00:00<00:00, 158.36it/s]\n"
          ]
        },
        {
          "output_type": "stream",
          "name": "stdout",
          "text": [
            "\n",
            " Confusion matrix: \n",
            " [[379 123]\n",
            " [ 65 116]]\n",
            "F1 Score: 0.5523809523809524\n",
            "Accuracy: 0.7247437774524158\n",
            "Precision: 0.48535564853556484\n",
            "Recall: 0.6408839779005525\n",
            "Epoch 45 | Train Loss 0.6865747570991516\n",
            "Predictions are [1 0 0 1 1 0 0 1 0 0 0 0 1 1 0 0 0 1 0 0 0 0 0 1 1 0 0 0 0 1 0 0 1 0 0 0 0\n",
            " 0 0 1 0 1 1 0 1 0 0 1 1 0 0 0 0 0 1 1 0 0 1 0 1 0 0 1 1 0 0 0 1 1 0 1 0 1\n",
            " 0 1 0 0 1 0 1 0 0 1 1 1 0 0 1 0 0 0 0 0 1 0 0 0 1 0 0 0 0 0 0 0 1 0 0 0 1\n",
            " 0 1 0 0 0 0 0 1 0 1 1 0 0 0 0 0 0 0 0 0 0 1 0 0 1 0 0 0 1 0 1 1 1 0 0 0 1\n",
            " 0 0 0 0 1 0 0 1 1 1 0 0 0 0 0 0 0 0 0 1 0 0 0 0 0 1 0 0 0 0 0 0 1 1 0 0 0\n",
            " 0 0 0 0 0 0 1 0 0 0 0 0 1 0 0 1 0 0 0 0 1 1 1 1 0 1 0 0 0 1 1 0 0 0 0 1 1\n",
            " 0 0 1 1 0 0 0 1 0 0 0 1 1 0 0 0 0 0 0 1 1 0 0 0 1 1 1 0 0 1 0 0 0 0 1 0 0\n",
            " 0 0 0 0 1 1 0 1 0 1 0 0 0 1 0 0 0 0 1 0 0 0 1 1 1 0 0 0 1 0 0 0 1]\n",
            "\n",
            " Confusion matrix: \n",
            " [[152  48]\n",
            " [ 36  56]]\n",
            "F1 Score: 0.5714285714285715\n",
            "Accuracy: 0.7123287671232876\n",
            "Precision: 0.5384615384615384\n",
            "Recall: 0.6086956521739131\n",
            "Epoch 45 | Test Loss 0.5268480181694031\n"
          ]
        },
        {
          "output_type": "stream",
          "name": "stderr",
          "text": [
            "100%|██████████| 35/35 [00:00<00:00, 144.17it/s]\n"
          ]
        },
        {
          "output_type": "stream",
          "name": "stdout",
          "text": [
            "\n",
            " Confusion matrix: \n",
            " [[385 126]\n",
            " [ 59 113]]\n",
            "F1 Score: 0.5498783454987834\n",
            "Accuracy: 0.7291361639824304\n",
            "Precision: 0.47280334728033474\n",
            "Recall: 0.6569767441860465\n",
            "Epoch 46 | Train Loss 0.694793164730072\n"
          ]
        },
        {
          "output_type": "stream",
          "name": "stderr",
          "text": [
            "100%|██████████| 35/35 [00:00<00:00, 109.78it/s]\n"
          ]
        },
        {
          "output_type": "stream",
          "name": "stdout",
          "text": [
            "\n",
            " Confusion matrix: \n",
            " [[378 124]\n",
            " [ 66 115]]\n",
            "F1 Score: 0.5476190476190477\n",
            "Accuracy: 0.7218155197657394\n",
            "Precision: 0.4811715481171548\n",
            "Recall: 0.6353591160220995\n",
            "Epoch 47 | Train Loss 0.5950330495834351\n"
          ]
        },
        {
          "output_type": "stream",
          "name": "stderr",
          "text": [
            "100%|██████████| 35/35 [00:00<00:00, 107.09it/s]\n"
          ]
        },
        {
          "output_type": "stream",
          "name": "stdout",
          "text": [
            "\n",
            " Confusion matrix: \n",
            " [[380 117]\n",
            " [ 64 122]]\n",
            "F1 Score: 0.5741176470588235\n",
            "Accuracy: 0.7349926793557833\n",
            "Precision: 0.5104602510460251\n",
            "Recall: 0.6559139784946236\n",
            "Epoch 48 | Train Loss 0.6618186235427856\n"
          ]
        },
        {
          "output_type": "stream",
          "name": "stderr",
          "text": [
            "100%|██████████| 35/35 [00:00<00:00, 120.27it/s]\n"
          ]
        },
        {
          "output_type": "stream",
          "name": "stdout",
          "text": [
            "\n",
            " Confusion matrix: \n",
            " [[375 117]\n",
            " [ 69 122]]\n",
            "F1 Score: 0.5674418604651164\n",
            "Accuracy: 0.7276720351390923\n",
            "Precision: 0.5104602510460251\n",
            "Recall: 0.6387434554973822\n",
            "Epoch 49 | Train Loss 0.56272953748703\n"
          ]
        },
        {
          "output_type": "stream",
          "name": "stderr",
          "text": [
            "100%|██████████| 35/35 [00:00<00:00, 136.65it/s]\n"
          ]
        },
        {
          "output_type": "stream",
          "name": "stdout",
          "text": [
            "\n",
            " Confusion matrix: \n",
            " [[365 109]\n",
            " [ 79 130]]\n",
            "F1 Score: 0.5803571428571429\n",
            "Accuracy: 0.7247437774524158\n",
            "Precision: 0.5439330543933054\n",
            "Recall: 0.6220095693779905\n",
            "Epoch 50 | Train Loss 0.6515082716941833\n",
            "Predictions are [1 0 0 1 1 0 0 1 0 0 0 0 1 1 0 0 1 1 0 0 0 0 0 1 1 1 0 0 0 1 0 0 1 0 0 0 0\n",
            " 0 1 1 0 1 1 0 1 0 0 1 1 0 0 0 0 0 1 1 0 0 1 0 1 0 0 1 1 0 0 0 1 1 0 1 0 1\n",
            " 0 1 0 0 1 0 1 0 0 1 1 1 0 0 1 0 0 0 0 0 1 0 0 0 1 0 0 0 0 0 0 0 1 0 0 0 1\n",
            " 0 1 0 0 0 0 0 1 0 1 1 0 0 0 0 0 0 0 0 0 0 1 0 1 1 0 0 0 1 0 1 1 1 0 0 0 1\n",
            " 0 0 0 0 1 0 0 1 1 1 0 1 0 0 0 0 0 0 0 1 1 0 0 0 0 1 0 0 0 0 0 0 1 1 0 0 0\n",
            " 0 0 0 0 0 0 1 0 0 0 0 0 1 0 0 1 0 0 0 0 1 1 1 1 0 1 0 0 0 1 1 0 0 0 0 1 1\n",
            " 0 0 1 1 0 0 1 1 0 0 0 1 1 0 0 0 0 0 0 1 1 0 0 0 1 1 1 1 0 1 0 0 0 0 1 0 0\n",
            " 0 0 0 0 1 1 0 1 0 1 0 0 0 1 0 0 0 0 1 0 0 0 1 1 1 0 0 0 1 0 0 0 1]\n",
            "\n",
            " Confusion matrix: \n",
            " [[147  45]\n",
            " [ 41  59]]\n",
            "F1 Score: 0.5784313725490196\n",
            "Accuracy: 0.7054794520547946\n",
            "Precision: 0.5673076923076923\n",
            "Recall: 0.59\n",
            "Epoch 50 | Test Loss 0.5231608748435974\n"
          ]
        },
        {
          "output_type": "stream",
          "name": "stderr",
          "text": [
            "100%|██████████| 35/35 [00:00<00:00, 140.88it/s]\n"
          ]
        },
        {
          "output_type": "stream",
          "name": "stdout",
          "text": [
            "\n",
            " Confusion matrix: \n",
            " [[369 118]\n",
            " [ 75 121]]\n",
            "F1 Score: 0.5563218390804598\n",
            "Accuracy: 0.7174231332357247\n",
            "Precision: 0.5062761506276151\n",
            "Recall: 0.6173469387755102\n",
            "Epoch 51 | Train Loss 0.6441592574119568\n"
          ]
        },
        {
          "output_type": "stream",
          "name": "stderr",
          "text": [
            "100%|██████████| 35/35 [00:00<00:00, 121.48it/s]\n"
          ]
        },
        {
          "output_type": "stream",
          "name": "stdout",
          "text": [
            "\n",
            " Confusion matrix: \n",
            " [[374 111]\n",
            " [ 70 128]]\n",
            "F1 Score: 0.585812356979405\n",
            "Accuracy: 0.7349926793557833\n",
            "Precision: 0.5355648535564853\n",
            "Recall: 0.6464646464646465\n",
            "Epoch 52 | Train Loss 0.6417063474655151\n"
          ]
        },
        {
          "output_type": "stream",
          "name": "stderr",
          "text": [
            "100%|██████████| 35/35 [00:00<00:00, 99.55it/s] \n"
          ]
        },
        {
          "output_type": "stream",
          "name": "stdout",
          "text": [
            "\n",
            " Confusion matrix: \n",
            " [[377 117]\n",
            " [ 67 122]]\n",
            "F1 Score: 0.5700934579439252\n",
            "Accuracy: 0.7306002928257687\n",
            "Precision: 0.5104602510460251\n",
            "Recall: 0.6455026455026455\n",
            "Epoch 53 | Train Loss 0.6680009365081787\n"
          ]
        },
        {
          "output_type": "stream",
          "name": "stderr",
          "text": [
            "100%|██████████| 35/35 [00:00<00:00, 113.14it/s]\n"
          ]
        },
        {
          "output_type": "stream",
          "name": "stdout",
          "text": [
            "\n",
            " Confusion matrix: \n",
            " [[371 116]\n",
            " [ 73 123]]\n",
            "F1 Score: 0.5655172413793103\n",
            "Accuracy: 0.7232796486090776\n",
            "Precision: 0.5146443514644351\n",
            "Recall: 0.6275510204081632\n",
            "Epoch 54 | Train Loss 0.5839939117431641\n"
          ]
        },
        {
          "output_type": "stream",
          "name": "stderr",
          "text": [
            "100%|██████████| 35/35 [00:00<00:00, 159.27it/s]\n"
          ]
        },
        {
          "output_type": "stream",
          "name": "stdout",
          "text": [
            "\n",
            " Confusion matrix: \n",
            " [[372 121]\n",
            " [ 72 118]]\n",
            "F1 Score: 0.5501165501165501\n",
            "Accuracy: 0.7174231332357247\n",
            "Precision: 0.49372384937238495\n",
            "Recall: 0.6210526315789474\n",
            "Epoch 55 | Train Loss 0.6469091773033142\n",
            "Predictions are [1 0 0 1 1 0 0 1 0 0 0 0 1 1 0 0 1 1 0 0 0 0 0 1 1 1 0 0 0 1 0 0 1 0 0 0 0\n",
            " 0 1 1 0 1 1 0 1 0 0 1 1 0 0 0 0 0 1 1 0 0 0 0 1 0 0 1 1 0 0 0 1 1 0 1 0 1\n",
            " 0 1 0 0 1 0 1 0 0 1 1 1 0 0 1 0 0 1 0 0 1 0 0 0 1 0 0 0 0 0 0 0 1 0 0 0 1\n",
            " 0 1 0 0 0 0 0 1 0 1 1 0 0 0 0 0 0 0 0 0 0 1 0 1 1 0 0 0 1 0 0 1 1 0 0 0 1\n",
            " 0 0 0 0 1 0 0 1 1 1 0 0 0 0 0 0 0 0 0 1 1 0 0 0 0 1 0 0 0 0 0 0 1 1 0 0 0\n",
            " 0 0 0 0 0 0 1 0 0 0 0 0 1 0 0 1 0 0 0 0 1 1 1 1 0 1 0 0 0 1 1 0 0 0 0 1 1\n",
            " 0 0 1 1 0 0 0 1 0 0 0 1 1 0 0 0 0 0 0 1 1 0 0 0 1 1 1 1 0 1 0 0 0 0 1 0 0\n",
            " 0 0 0 0 0 1 0 1 0 1 0 0 0 1 0 0 0 0 1 0 0 0 1 1 1 0 0 0 1 0 0 0 1]\n",
            "\n",
            " Confusion matrix: \n",
            " [[149  47]\n",
            " [ 39  57]]\n",
            "F1 Score: 0.5700000000000001\n",
            "Accuracy: 0.7054794520547946\n",
            "Precision: 0.5480769230769231\n",
            "Recall: 0.59375\n",
            "Epoch 55 | Test Loss 0.525300145149231\n"
          ]
        },
        {
          "output_type": "stream",
          "name": "stderr",
          "text": [
            "100%|██████████| 35/35 [00:00<00:00, 151.73it/s]\n"
          ]
        },
        {
          "output_type": "stream",
          "name": "stdout",
          "text": [
            "\n",
            " Confusion matrix: \n",
            " [[378 116]\n",
            " [ 66 123]]\n",
            "F1 Score: 0.5747663551401869\n",
            "Accuracy: 0.7335285505124451\n",
            "Precision: 0.5146443514644351\n",
            "Recall: 0.6507936507936508\n",
            "Epoch 56 | Train Loss 0.6296748518943787\n"
          ]
        },
        {
          "output_type": "stream",
          "name": "stderr",
          "text": [
            "100%|██████████| 35/35 [00:00<00:00, 148.08it/s]\n"
          ]
        },
        {
          "output_type": "stream",
          "name": "stdout",
          "text": [
            "\n",
            " Confusion matrix: \n",
            " [[380 110]\n",
            " [ 64 129]]\n",
            "F1 Score: 0.5972222222222222\n",
            "Accuracy: 0.7452415812591509\n",
            "Precision: 0.5397489539748954\n",
            "Recall: 0.6683937823834197\n",
            "Epoch 57 | Train Loss 0.524440586566925\n"
          ]
        },
        {
          "output_type": "stream",
          "name": "stderr",
          "text": [
            "100%|██████████| 35/35 [00:00<00:00, 140.29it/s]\n"
          ]
        },
        {
          "output_type": "stream",
          "name": "stdout",
          "text": [
            "\n",
            " Confusion matrix: \n",
            " [[370 119]\n",
            " [ 74 120]]\n",
            "F1 Score: 0.5542725173210161\n",
            "Accuracy: 0.7174231332357247\n",
            "Precision: 0.502092050209205\n",
            "Recall: 0.6185567010309279\n",
            "Epoch 58 | Train Loss 0.7189574241638184\n"
          ]
        },
        {
          "output_type": "stream",
          "name": "stderr",
          "text": [
            "100%|██████████| 35/35 [00:00<00:00, 133.71it/s]\n"
          ]
        },
        {
          "output_type": "stream",
          "name": "stdout",
          "text": [
            "\n",
            " Confusion matrix: \n",
            " [[376 112]\n",
            " [ 68 127]]\n",
            "F1 Score: 0.5852534562211982\n",
            "Accuracy: 0.7364568081991215\n",
            "Precision: 0.5313807531380753\n",
            "Recall: 0.6512820512820513\n",
            "Epoch 59 | Train Loss 0.46545401215553284\n"
          ]
        },
        {
          "output_type": "stream",
          "name": "stderr",
          "text": [
            "100%|██████████| 35/35 [00:00<00:00, 135.51it/s]\n"
          ]
        },
        {
          "output_type": "stream",
          "name": "stdout",
          "text": [
            "\n",
            " Confusion matrix: \n",
            " [[376 117]\n",
            " [ 68 122]]\n",
            "F1 Score: 0.5687645687645687\n",
            "Accuracy: 0.7291361639824304\n",
            "Precision: 0.5104602510460251\n",
            "Recall: 0.6421052631578947\n",
            "Epoch 60 | Train Loss 0.44246551394462585\n",
            "Predictions are [1 0 0 1 1 0 0 1 0 0 0 0 1 1 0 0 1 1 0 0 0 0 0 1 1 1 0 0 0 1 0 0 1 0 0 0 0\n",
            " 0 1 1 0 1 1 0 1 0 0 1 1 0 0 0 0 0 1 1 0 0 1 0 1 0 0 1 1 0 0 0 1 1 0 1 0 1\n",
            " 0 1 0 0 1 0 1 0 0 1 1 1 0 0 1 0 0 1 0 0 1 0 0 0 1 0 0 0 0 0 0 0 1 0 0 0 1\n",
            " 0 1 0 0 0 0 0 1 0 1 1 0 0 0 0 0 0 0 0 0 0 1 0 1 1 0 0 0 1 0 0 1 1 0 0 0 1\n",
            " 0 0 0 0 1 0 0 1 1 1 0 0 0 0 0 0 0 0 0 1 1 0 0 0 0 1 0 0 0 0 0 0 1 1 0 0 0\n",
            " 0 0 0 0 0 0 1 0 0 0 0 0 1 0 0 1 0 0 0 0 1 1 1 1 0 1 1 0 0 1 1 0 0 0 0 1 1\n",
            " 0 0 1 1 0 0 0 1 0 0 0 1 1 0 0 0 0 0 0 1 1 0 0 0 1 1 1 1 0 1 0 0 0 0 1 0 0\n",
            " 0 0 1 0 0 1 0 1 0 1 0 0 0 1 0 0 0 0 1 0 0 0 1 1 1 0 0 0 1 0 0 0 1]\n",
            "\n",
            " Confusion matrix: \n",
            " [[146  47]\n",
            " [ 42  57]]\n",
            "F1 Score: 0.5615763546798029\n",
            "Accuracy: 0.6952054794520548\n",
            "Precision: 0.5480769230769231\n",
            "Recall: 0.5757575757575758\n",
            "Epoch 60 | Test Loss 0.5212283134460449\n"
          ]
        },
        {
          "output_type": "stream",
          "name": "stderr",
          "text": [
            "100%|██████████| 35/35 [00:00<00:00, 135.05it/s]\n"
          ]
        },
        {
          "output_type": "stream",
          "name": "stdout",
          "text": [
            "\n",
            " Confusion matrix: \n",
            " [[373 117]\n",
            " [ 71 122]]\n",
            "F1 Score: 0.5648148148148149\n",
            "Accuracy: 0.7247437774524158\n",
            "Precision: 0.5104602510460251\n",
            "Recall: 0.6321243523316062\n",
            "Epoch 61 | Train Loss 0.868147075176239\n"
          ]
        },
        {
          "output_type": "stream",
          "name": "stderr",
          "text": [
            "100%|██████████| 35/35 [00:00<00:00, 198.19it/s]\n"
          ]
        },
        {
          "output_type": "stream",
          "name": "stdout",
          "text": [
            "\n",
            " Confusion matrix: \n",
            " [[370 109]\n",
            " [ 74 130]]\n",
            "F1 Score: 0.5869074492099323\n",
            "Accuracy: 0.7320644216691069\n",
            "Precision: 0.5439330543933054\n",
            "Recall: 0.6372549019607843\n",
            "Epoch 62 | Train Loss 0.6974942088127136\n"
          ]
        },
        {
          "output_type": "stream",
          "name": "stderr",
          "text": [
            "100%|██████████| 35/35 [00:00<00:00, 219.50it/s]\n"
          ]
        },
        {
          "output_type": "stream",
          "name": "stdout",
          "text": [
            "\n",
            " Confusion matrix: \n",
            " [[380 116]\n",
            " [ 64 123]]\n",
            "F1 Score: 0.5774647887323944\n",
            "Accuracy: 0.7364568081991215\n",
            "Precision: 0.5146443514644351\n",
            "Recall: 0.6577540106951871\n",
            "Epoch 63 | Train Loss 0.6667298674583435\n"
          ]
        },
        {
          "output_type": "stream",
          "name": "stderr",
          "text": [
            "100%|██████████| 35/35 [00:00<00:00, 229.23it/s]\n"
          ]
        },
        {
          "output_type": "stream",
          "name": "stdout",
          "text": [
            "\n",
            " Confusion matrix: \n",
            " [[377 117]\n",
            " [ 67 122]]\n",
            "F1 Score: 0.5700934579439252\n",
            "Accuracy: 0.7306002928257687\n",
            "Precision: 0.5104602510460251\n",
            "Recall: 0.6455026455026455\n",
            "Epoch 64 | Train Loss 0.3803638517856598\n"
          ]
        },
        {
          "output_type": "stream",
          "name": "stderr",
          "text": [
            "100%|██████████| 35/35 [00:00<00:00, 228.06it/s]\n"
          ]
        },
        {
          "output_type": "stream",
          "name": "stdout",
          "text": [
            "\n",
            " Confusion matrix: \n",
            " [[379 119]\n",
            " [ 65 120]]\n",
            "F1 Score: 0.5660377358490566\n",
            "Accuracy: 0.7306002928257687\n",
            "Precision: 0.502092050209205\n",
            "Recall: 0.6486486486486487\n",
            "Epoch 65 | Train Loss 0.5787724852561951\n",
            "Predictions are [1 0 0 1 1 0 0 1 0 0 0 0 1 1 0 0 0 1 0 0 0 0 0 1 1 0 0 0 0 1 0 0 1 0 0 0 0\n",
            " 0 0 1 0 1 1 0 1 0 0 1 1 0 0 0 0 0 1 1 0 0 1 0 1 0 0 1 1 0 0 0 1 1 0 1 0 1\n",
            " 0 1 0 0 1 0 1 0 0 1 1 1 0 0 1 0 0 0 0 0 1 0 0 0 1 0 0 0 0 0 0 0 1 0 0 0 1\n",
            " 0 1 0 0 0 0 0 1 0 1 1 0 0 0 0 0 0 0 0 0 0 1 0 1 1 0 0 0 1 0 0 1 1 0 0 0 1\n",
            " 0 0 0 0 1 0 0 1 1 1 0 0 0 0 0 0 0 0 0 1 1 0 0 0 0 1 0 0 0 0 0 0 1 1 0 0 0\n",
            " 0 0 0 0 0 0 1 0 0 0 0 0 1 0 0 1 0 0 0 0 1 1 1 1 0 1 0 0 0 1 1 0 0 0 0 1 1\n",
            " 0 0 1 0 0 0 0 1 0 0 0 1 1 0 0 0 0 0 0 1 1 0 0 0 1 1 1 0 0 1 0 0 0 0 1 0 0\n",
            " 0 0 0 0 0 1 0 1 0 1 0 0 0 1 0 0 0 0 1 0 0 0 1 1 1 0 0 0 1 0 0 0 1]\n",
            "\n",
            " Confusion matrix: \n",
            " [[150  51]\n",
            " [ 38  53]]\n",
            "F1 Score: 0.5435897435897435\n",
            "Accuracy: 0.6952054794520548\n",
            "Precision: 0.5096153846153846\n",
            "Recall: 0.5824175824175825\n",
            "Epoch 65 | Test Loss 0.5395700931549072\n"
          ]
        },
        {
          "output_type": "stream",
          "name": "stderr",
          "text": [
            "100%|██████████| 35/35 [00:00<00:00, 207.43it/s]\n"
          ]
        },
        {
          "output_type": "stream",
          "name": "stdout",
          "text": [
            "\n",
            " Confusion matrix: \n",
            " [[377 114]\n",
            " [ 67 125]]\n",
            "F1 Score: 0.5800464037122969\n",
            "Accuracy: 0.7349926793557833\n",
            "Precision: 0.5230125523012552\n",
            "Recall: 0.6510416666666666\n",
            "Epoch 66 | Train Loss 0.5782648921012878\n"
          ]
        },
        {
          "output_type": "stream",
          "name": "stderr",
          "text": [
            "100%|██████████| 35/35 [00:00<00:00, 212.19it/s]\n"
          ]
        },
        {
          "output_type": "stream",
          "name": "stdout",
          "text": [
            "\n",
            " Confusion matrix: \n",
            " [[376 117]\n",
            " [ 68 122]]\n",
            "F1 Score: 0.5687645687645687\n",
            "Accuracy: 0.7291361639824304\n",
            "Precision: 0.5104602510460251\n",
            "Recall: 0.6421052631578947\n",
            "Epoch 67 | Train Loss 0.5097191333770752\n"
          ]
        },
        {
          "output_type": "stream",
          "name": "stderr",
          "text": [
            "100%|██████████| 35/35 [00:00<00:00, 217.21it/s]\n"
          ]
        },
        {
          "output_type": "stream",
          "name": "stdout",
          "text": [
            "\n",
            " Confusion matrix: \n",
            " [[380 116]\n",
            " [ 64 123]]\n",
            "F1 Score: 0.5774647887323944\n",
            "Accuracy: 0.7364568081991215\n",
            "Precision: 0.5146443514644351\n",
            "Recall: 0.6577540106951871\n",
            "Epoch 68 | Train Loss 0.4712159335613251\n"
          ]
        },
        {
          "output_type": "stream",
          "name": "stderr",
          "text": [
            "100%|██████████| 35/35 [00:00<00:00, 236.43it/s]\n"
          ]
        },
        {
          "output_type": "stream",
          "name": "stdout",
          "text": [
            "\n",
            " Confusion matrix: \n",
            " [[384 116]\n",
            " [ 60 123]]\n",
            "F1 Score: 0.5829383886255924\n",
            "Accuracy: 0.7423133235724744\n",
            "Precision: 0.5146443514644351\n",
            "Recall: 0.6721311475409836\n",
            "Epoch 69 | Train Loss 0.4993482530117035\n"
          ]
        },
        {
          "output_type": "stream",
          "name": "stderr",
          "text": [
            "100%|██████████| 35/35 [00:00<00:00, 228.84it/s]\n"
          ]
        },
        {
          "output_type": "stream",
          "name": "stdout",
          "text": [
            "\n",
            " Confusion matrix: \n",
            " [[377 120]\n",
            " [ 67 119]]\n",
            "F1 Score: 0.56\n",
            "Accuracy: 0.726207906295754\n",
            "Precision: 0.497907949790795\n",
            "Recall: 0.6397849462365591\n",
            "Epoch 70 | Train Loss 0.6407792568206787\n",
            "Predictions are [1 0 0 1 1 0 0 1 0 0 0 0 1 1 0 0 1 1 0 0 0 0 0 1 1 1 0 0 0 1 0 0 1 0 0 0 0\n",
            " 0 0 1 0 1 1 0 1 0 0 1 1 0 0 0 0 0 1 1 0 0 1 0 1 0 0 1 1 0 0 0 1 1 0 1 0 1\n",
            " 0 1 0 0 0 0 1 0 0 1 1 1 0 0 1 0 0 0 0 0 1 0 0 0 1 0 0 0 0 0 0 0 1 0 0 0 1\n",
            " 0 1 0 0 0 0 0 1 0 1 1 0 0 0 0 0 0 0 0 0 0 1 0 0 1 0 0 0 0 0 0 1 1 0 0 0 1\n",
            " 0 0 0 0 1 0 0 1 1 0 0 0 0 0 0 0 0 0 0 1 1 0 0 0 0 1 0 0 0 0 0 0 1 1 0 0 0\n",
            " 0 0 0 0 0 0 1 0 0 0 0 0 1 0 0 1 0 0 0 0 1 1 1 1 0 1 0 0 0 1 1 0 0 0 0 1 0\n",
            " 0 0 1 1 0 0 0 1 0 0 0 1 1 0 0 0 0 0 0 1 1 0 0 0 1 1 0 0 0 1 0 0 0 0 1 0 0\n",
            " 0 0 0 0 1 1 0 1 0 1 0 0 0 1 0 0 0 0 1 0 0 0 1 1 1 0 0 0 1 0 0 0 1]\n",
            "\n",
            " Confusion matrix: \n",
            " [[154  49]\n",
            " [ 34  55]]\n",
            "F1 Score: 0.5699481865284974\n",
            "Accuracy: 0.7157534246575342\n",
            "Precision: 0.5288461538461539\n",
            "Recall: 0.6179775280898876\n",
            "Epoch 70 | Test Loss 0.5282576084136963\n"
          ]
        },
        {
          "output_type": "stream",
          "name": "stderr",
          "text": [
            "100%|██████████| 35/35 [00:00<00:00, 221.82it/s]\n"
          ]
        },
        {
          "output_type": "stream",
          "name": "stdout",
          "text": [
            "\n",
            " Confusion matrix: \n",
            " [[377 125]\n",
            " [ 67 114]]\n",
            "F1 Score: 0.5428571428571428\n",
            "Accuracy: 0.718887262079063\n",
            "Precision: 0.4769874476987448\n",
            "Recall: 0.6298342541436464\n",
            "Epoch 71 | Train Loss 0.39891234040260315\n"
          ]
        },
        {
          "output_type": "stream",
          "name": "stderr",
          "text": [
            "100%|██████████| 35/35 [00:00<00:00, 225.39it/s]\n"
          ]
        },
        {
          "output_type": "stream",
          "name": "stdout",
          "text": [
            "\n",
            " Confusion matrix: \n",
            " [[383 117]\n",
            " [ 61 122]]\n",
            "F1 Score: 0.5781990521327014\n",
            "Accuracy: 0.739385065885798\n",
            "Precision: 0.5104602510460251\n",
            "Recall: 0.6666666666666666\n",
            "Epoch 72 | Train Loss 0.6771544814109802\n"
          ]
        },
        {
          "output_type": "stream",
          "name": "stderr",
          "text": [
            "100%|██████████| 35/35 [00:00<00:00, 218.04it/s]\n"
          ]
        },
        {
          "output_type": "stream",
          "name": "stdout",
          "text": [
            "\n",
            " Confusion matrix: \n",
            " [[382 116]\n",
            " [ 62 123]]\n",
            "F1 Score: 0.5801886792452831\n",
            "Accuracy: 0.739385065885798\n",
            "Precision: 0.5146443514644351\n",
            "Recall: 0.6648648648648648\n",
            "Epoch 73 | Train Loss 0.6329196095466614\n"
          ]
        },
        {
          "output_type": "stream",
          "name": "stderr",
          "text": [
            "100%|██████████| 35/35 [00:00<00:00, 216.75it/s]\n"
          ]
        },
        {
          "output_type": "stream",
          "name": "stdout",
          "text": [
            "\n",
            " Confusion matrix: \n",
            " [[374 114]\n",
            " [ 70 125]]\n",
            "F1 Score: 0.576036866359447\n",
            "Accuracy: 0.7306002928257687\n",
            "Precision: 0.5230125523012552\n",
            "Recall: 0.6410256410256411\n",
            "Epoch 74 | Train Loss 0.6196867823600769\n"
          ]
        },
        {
          "output_type": "stream",
          "name": "stderr",
          "text": [
            "100%|██████████| 35/35 [00:00<00:00, 232.64it/s]\n"
          ]
        },
        {
          "output_type": "stream",
          "name": "stdout",
          "text": [
            "\n",
            " Confusion matrix: \n",
            " [[377 120]\n",
            " [ 67 119]]\n",
            "F1 Score: 0.56\n",
            "Accuracy: 0.726207906295754\n",
            "Precision: 0.497907949790795\n",
            "Recall: 0.6397849462365591\n",
            "Epoch 75 | Train Loss 0.6806243062019348\n",
            "Predictions are [1 0 0 1 1 0 0 1 0 0 0 0 1 1 0 0 0 1 0 0 0 0 0 1 1 0 0 0 0 1 0 0 1 0 0 0 0\n",
            " 0 1 1 0 1 1 0 1 0 0 1 1 0 0 0 0 0 1 1 0 0 1 0 1 0 0 1 1 0 0 0 1 1 0 1 0 1\n",
            " 0 1 0 0 1 0 1 0 0 1 1 1 0 0 1 0 0 0 0 0 1 0 0 0 1 0 0 0 0 0 0 0 1 0 0 0 1\n",
            " 0 1 0 0 0 0 0 1 0 1 1 0 0 0 0 0 0 0 0 0 0 1 0 0 1 0 0 0 1 0 1 1 1 0 0 0 1\n",
            " 0 0 0 0 1 0 0 1 1 1 0 0 0 0 0 0 0 0 0 1 0 0 0 0 0 1 0 0 0 0 0 0 1 1 0 0 0\n",
            " 0 0 0 0 0 0 1 0 0 0 0 0 1 0 0 1 0 0 0 0 1 1 1 1 0 1 0 0 0 1 1 0 0 0 0 1 1\n",
            " 0 0 1 0 0 0 1 1 0 0 0 1 1 0 0 0 0 0 0 1 1 0 0 0 1 1 1 0 0 1 0 0 0 0 1 0 0\n",
            " 0 0 0 0 1 1 0 1 0 1 0 0 0 1 0 0 0 0 1 0 0 0 1 1 1 0 0 0 1 0 0 0 1]\n",
            "\n",
            " Confusion matrix: \n",
            " [[150  49]\n",
            " [ 38  55]]\n",
            "F1 Score: 0.5583756345177665\n",
            "Accuracy: 0.702054794520548\n",
            "Precision: 0.5288461538461539\n",
            "Recall: 0.5913978494623656\n",
            "Epoch 75 | Test Loss 0.5452715754508972\n"
          ]
        },
        {
          "output_type": "stream",
          "name": "stderr",
          "text": [
            "100%|██████████| 35/35 [00:00<00:00, 230.50it/s]\n"
          ]
        },
        {
          "output_type": "stream",
          "name": "stdout",
          "text": [
            "\n",
            " Confusion matrix: \n",
            " [[373 113]\n",
            " [ 71 126]]\n",
            "F1 Score: 0.5779816513761469\n",
            "Accuracy: 0.7306002928257687\n",
            "Precision: 0.5271966527196653\n",
            "Recall: 0.6395939086294417\n",
            "Epoch 76 | Train Loss 0.5196776986122131\n"
          ]
        },
        {
          "output_type": "stream",
          "name": "stderr",
          "text": [
            "100%|██████████| 35/35 [00:00<00:00, 223.21it/s]\n"
          ]
        },
        {
          "output_type": "stream",
          "name": "stdout",
          "text": [
            "\n",
            " Confusion matrix: \n",
            " [[379 115]\n",
            " [ 65 124]]\n",
            "F1 Score: 0.5794392523364486\n",
            "Accuracy: 0.7364568081991215\n",
            "Precision: 0.5188284518828452\n",
            "Recall: 0.656084656084656\n",
            "Epoch 77 | Train Loss 0.6471087336540222\n"
          ]
        },
        {
          "output_type": "stream",
          "name": "stderr",
          "text": [
            "100%|██████████| 35/35 [00:00<00:00, 227.99it/s]\n"
          ]
        },
        {
          "output_type": "stream",
          "name": "stdout",
          "text": [
            "\n",
            " Confusion matrix: \n",
            " [[379 109]\n",
            " [ 65 130]]\n",
            "F1 Score: 0.5990783410138248\n",
            "Accuracy: 0.7452415812591509\n",
            "Precision: 0.5439330543933054\n",
            "Recall: 0.6666666666666666\n",
            "Epoch 78 | Train Loss 0.6910932064056396\n"
          ]
        },
        {
          "output_type": "stream",
          "name": "stderr",
          "text": [
            "100%|██████████| 35/35 [00:00<00:00, 222.28it/s]\n"
          ]
        },
        {
          "output_type": "stream",
          "name": "stdout",
          "text": [
            "\n",
            " Confusion matrix: \n",
            " [[373 117]\n",
            " [ 71 122]]\n",
            "F1 Score: 0.5648148148148149\n",
            "Accuracy: 0.7247437774524158\n",
            "Precision: 0.5104602510460251\n",
            "Recall: 0.6321243523316062\n",
            "Epoch 79 | Train Loss 0.6584725975990295\n"
          ]
        },
        {
          "output_type": "stream",
          "name": "stderr",
          "text": [
            "100%|██████████| 35/35 [00:00<00:00, 223.47it/s]\n"
          ]
        },
        {
          "output_type": "stream",
          "name": "stdout",
          "text": [
            "\n",
            " Confusion matrix: \n",
            " [[380 111]\n",
            " [ 64 128]]\n",
            "F1 Score: 0.5939675174013921\n",
            "Accuracy: 0.7437774524158126\n",
            "Precision: 0.5355648535564853\n",
            "Recall: 0.6666666666666666\n",
            "Epoch 80 | Train Loss 0.5327968001365662\n",
            "Predictions are [1 0 0 1 1 0 0 1 0 0 0 0 1 1 0 0 1 1 0 0 0 0 0 1 1 1 0 0 0 1 0 0 1 0 0 0 0\n",
            " 0 1 1 0 1 1 0 1 0 0 1 1 0 0 0 0 0 1 1 0 0 1 0 1 0 0 1 1 0 0 0 1 1 0 1 0 1\n",
            " 0 1 0 0 1 0 1 0 0 1 1 1 0 0 1 0 0 0 0 0 1 0 0 0 1 0 0 0 0 0 0 0 1 0 0 0 1\n",
            " 0 1 0 0 0 0 0 1 0 1 1 0 0 0 0 0 0 0 0 0 0 1 0 0 1 0 0 0 1 0 0 1 1 0 0 0 1\n",
            " 0 0 0 0 1 0 0 1 1 1 0 0 0 0 0 0 0 0 0 1 0 0 0 0 0 1 0 0 0 0 0 0 1 1 0 0 0\n",
            " 0 0 0 0 0 0 1 0 0 0 0 0 1 0 0 1 0 0 0 0 1 1 1 1 0 1 0 0 0 1 1 0 0 0 0 1 1\n",
            " 0 0 1 1 0 0 0 1 0 0 0 1 1 0 0 0 0 0 0 1 1 0 0 0 1 1 1 0 0 1 0 0 0 0 1 0 0\n",
            " 0 0 0 0 0 1 0 1 0 1 0 0 0 1 0 0 0 0 1 0 0 0 1 1 1 0 0 0 1 0 0 0 1]\n",
            "\n",
            " Confusion matrix: \n",
            " [[151  48]\n",
            " [ 37  56]]\n",
            "F1 Score: 0.5685279187817259\n",
            "Accuracy: 0.708904109589041\n",
            "Precision: 0.5384615384615384\n",
            "Recall: 0.6021505376344086\n",
            "Epoch 80 | Test Loss 0.5369569063186646\n"
          ]
        },
        {
          "output_type": "stream",
          "name": "stderr",
          "text": [
            "100%|██████████| 35/35 [00:00<00:00, 237.90it/s]\n"
          ]
        },
        {
          "output_type": "stream",
          "name": "stdout",
          "text": [
            "\n",
            " Confusion matrix: \n",
            " [[364 117]\n",
            " [ 80 122]]\n",
            "F1 Score: 0.5532879818594104\n",
            "Accuracy: 0.7115666178623719\n",
            "Precision: 0.5104602510460251\n",
            "Recall: 0.6039603960396039\n",
            "Epoch 81 | Train Loss 0.5069692730903625\n"
          ]
        },
        {
          "output_type": "stream",
          "name": "stderr",
          "text": [
            "100%|██████████| 35/35 [00:00<00:00, 213.37it/s]\n"
          ]
        },
        {
          "output_type": "stream",
          "name": "stdout",
          "text": [
            "\n",
            " Confusion matrix: \n",
            " [[381 115]\n",
            " [ 63 124]]\n",
            "F1 Score: 0.5821596244131455\n",
            "Accuracy: 0.739385065885798\n",
            "Precision: 0.5188284518828452\n",
            "Recall: 0.6631016042780749\n",
            "Epoch 82 | Train Loss 0.6289525628089905\n"
          ]
        },
        {
          "output_type": "stream",
          "name": "stderr",
          "text": [
            "100%|██████████| 35/35 [00:00<00:00, 221.22it/s]\n"
          ]
        },
        {
          "output_type": "stream",
          "name": "stdout",
          "text": [
            "\n",
            " Confusion matrix: \n",
            " [[377 122]\n",
            " [ 67 117]]\n",
            "F1 Score: 0.5531914893617023\n",
            "Accuracy: 0.7232796486090776\n",
            "Precision: 0.4895397489539749\n",
            "Recall: 0.6358695652173914\n",
            "Epoch 83 | Train Loss 0.6083773374557495\n"
          ]
        },
        {
          "output_type": "stream",
          "name": "stderr",
          "text": [
            "100%|██████████| 35/35 [00:00<00:00, 219.54it/s]\n"
          ]
        },
        {
          "output_type": "stream",
          "name": "stdout",
          "text": [
            "\n",
            " Confusion matrix: \n",
            " [[379 121]\n",
            " [ 65 118]]\n",
            "F1 Score: 0.5592417061611374\n",
            "Accuracy: 0.7276720351390923\n",
            "Precision: 0.49372384937238495\n",
            "Recall: 0.644808743169399\n",
            "Epoch 84 | Train Loss 0.5046204924583435\n"
          ]
        },
        {
          "output_type": "stream",
          "name": "stderr",
          "text": [
            "100%|██████████| 35/35 [00:00<00:00, 221.41it/s]\n"
          ]
        },
        {
          "output_type": "stream",
          "name": "stdout",
          "text": [
            "\n",
            " Confusion matrix: \n",
            " [[379 119]\n",
            " [ 65 120]]\n",
            "F1 Score: 0.5660377358490566\n",
            "Accuracy: 0.7306002928257687\n",
            "Precision: 0.502092050209205\n",
            "Recall: 0.6486486486486487\n",
            "Epoch 85 | Train Loss 0.5767533183097839\n",
            "Predictions are [0 0 0 1 1 0 0 1 0 0 0 0 1 1 0 0 0 1 0 0 0 0 0 1 0 1 0 0 0 1 0 0 1 0 0 0 0\n",
            " 0 0 0 0 1 1 0 1 0 0 1 1 0 0 0 0 0 1 1 0 0 0 0 1 0 0 1 1 0 0 0 1 1 0 1 0 1\n",
            " 0 1 0 0 0 0 1 0 0 1 1 1 0 0 1 0 0 0 0 0 1 0 0 0 1 0 0 0 0 0 0 0 1 0 0 0 1\n",
            " 0 1 0 0 0 0 0 1 0 1 0 0 0 0 0 0 0 0 0 0 0 1 0 0 1 0 0 0 0 0 0 1 1 0 0 0 1\n",
            " 0 0 0 0 1 0 0 1 1 0 0 0 0 0 0 0 0 0 0 1 0 0 0 0 0 1 0 0 0 0 0 0 1 1 0 0 0\n",
            " 0 0 0 0 0 0 1 0 0 0 0 0 1 0 0 1 0 0 0 0 1 1 1 1 0 1 0 0 0 1 1 0 0 0 0 1 0\n",
            " 0 0 1 1 0 0 0 1 0 0 0 1 1 0 0 0 0 0 0 1 1 0 0 0 1 1 0 0 0 1 0 0 0 0 1 0 0\n",
            " 0 0 0 0 1 1 0 1 0 1 0 0 0 1 0 0 0 0 1 0 0 0 1 0 1 0 0 0 1 0 0 0 1]\n",
            "\n",
            " Confusion matrix: \n",
            " [[158  53]\n",
            " [ 30  51]]\n",
            "F1 Score: 0.5513513513513514\n",
            "Accuracy: 0.7157534246575342\n",
            "Precision: 0.49038461538461536\n",
            "Recall: 0.6296296296296297\n",
            "Epoch 85 | Test Loss 0.5447166562080383\n"
          ]
        },
        {
          "output_type": "stream",
          "name": "stderr",
          "text": [
            "100%|██████████| 35/35 [00:00<00:00, 232.33it/s]\n"
          ]
        },
        {
          "output_type": "stream",
          "name": "stdout",
          "text": [
            "\n",
            " Confusion matrix: \n",
            " [[380 116]\n",
            " [ 64 123]]\n",
            "F1 Score: 0.5774647887323944\n",
            "Accuracy: 0.7364568081991215\n",
            "Precision: 0.5146443514644351\n",
            "Recall: 0.6577540106951871\n",
            "Epoch 86 | Train Loss 0.6138321757316589\n"
          ]
        },
        {
          "output_type": "stream",
          "name": "stderr",
          "text": [
            "100%|██████████| 35/35 [00:00<00:00, 206.48it/s]\n"
          ]
        },
        {
          "output_type": "stream",
          "name": "stdout",
          "text": [
            "\n",
            " Confusion matrix: \n",
            " [[377 113]\n",
            " [ 67 126]]\n",
            "F1 Score: 0.5833333333333334\n",
            "Accuracy: 0.7364568081991215\n",
            "Precision: 0.5271966527196653\n",
            "Recall: 0.6528497409326425\n",
            "Epoch 87 | Train Loss 0.6362457275390625\n"
          ]
        },
        {
          "output_type": "stream",
          "name": "stderr",
          "text": [
            "100%|██████████| 35/35 [00:00<00:00, 228.95it/s]\n"
          ]
        },
        {
          "output_type": "stream",
          "name": "stdout",
          "text": [
            "\n",
            " Confusion matrix: \n",
            " [[374 121]\n",
            " [ 70 118]]\n",
            "F1 Score: 0.5526932084309133\n",
            "Accuracy: 0.7203513909224012\n",
            "Precision: 0.49372384937238495\n",
            "Recall: 0.6276595744680851\n",
            "Epoch 88 | Train Loss 0.5433502793312073\n"
          ]
        },
        {
          "output_type": "stream",
          "name": "stderr",
          "text": [
            "100%|██████████| 35/35 [00:00<00:00, 220.39it/s]\n"
          ]
        },
        {
          "output_type": "stream",
          "name": "stdout",
          "text": [
            "\n",
            " Confusion matrix: \n",
            " [[375 110]\n",
            " [ 69 129]]\n",
            "F1 Score: 0.5903890160183067\n",
            "Accuracy: 0.7379209370424598\n",
            "Precision: 0.5397489539748954\n",
            "Recall: 0.6515151515151515\n",
            "Epoch 89 | Train Loss 0.616727352142334\n"
          ]
        },
        {
          "output_type": "stream",
          "name": "stderr",
          "text": [
            "100%|██████████| 35/35 [00:00<00:00, 235.37it/s]\n"
          ]
        },
        {
          "output_type": "stream",
          "name": "stdout",
          "text": [
            "\n",
            " Confusion matrix: \n",
            " [[380 119]\n",
            " [ 64 120]]\n",
            "F1 Score: 0.5673758865248226\n",
            "Accuracy: 0.7320644216691069\n",
            "Precision: 0.502092050209205\n",
            "Recall: 0.6521739130434783\n",
            "Epoch 90 | Train Loss 0.4276908338069916\n",
            "Predictions are [1 0 0 1 1 0 0 1 0 0 0 0 1 1 0 0 1 1 0 0 0 0 0 1 1 1 0 0 0 1 0 0 1 0 0 0 0\n",
            " 0 1 1 0 1 1 0 1 0 0 1 1 0 0 0 0 0 1 1 0 0 0 0 1 0 0 1 1 0 0 0 1 1 0 1 0 1\n",
            " 0 1 0 0 1 0 1 0 0 1 1 1 0 0 1 0 0 0 0 0 1 0 0 0 1 0 0 0 0 0 0 0 1 0 0 0 1\n",
            " 0 1 0 0 0 0 0 1 0 1 1 0 0 0 0 0 0 0 0 0 0 1 0 1 1 0 0 0 1 0 1 1 1 0 0 0 1\n",
            " 0 0 0 0 1 0 0 1 1 0 0 0 0 0 0 0 0 0 0 1 1 0 0 0 0 1 0 0 0 0 0 0 1 1 0 0 0\n",
            " 0 0 0 0 0 0 1 0 0 0 0 0 1 0 0 1 0 0 0 0 1 1 1 1 0 1 0 0 0 1 1 0 0 0 0 1 1\n",
            " 0 0 1 1 0 0 1 1 0 0 0 1 1 0 0 0 0 0 0 1 1 0 0 0 1 1 1 0 0 1 0 0 0 0 1 0 0\n",
            " 0 0 0 0 1 1 0 1 0 1 0 0 0 1 0 0 0 0 1 0 0 0 1 1 1 0 0 0 1 0 0 0 1]\n",
            "\n",
            " Confusion matrix: \n",
            " [[149  47]\n",
            " [ 39  57]]\n",
            "F1 Score: 0.5700000000000001\n",
            "Accuracy: 0.7054794520547946\n",
            "Precision: 0.5480769230769231\n",
            "Recall: 0.59375\n",
            "Epoch 90 | Test Loss 0.5377575755119324\n"
          ]
        },
        {
          "output_type": "stream",
          "name": "stderr",
          "text": [
            "100%|██████████| 35/35 [00:00<00:00, 220.55it/s]\n"
          ]
        },
        {
          "output_type": "stream",
          "name": "stdout",
          "text": [
            "\n",
            " Confusion matrix: \n",
            " [[377 116]\n",
            " [ 67 123]]\n",
            "F1 Score: 0.5734265734265734\n",
            "Accuracy: 0.7320644216691069\n",
            "Precision: 0.5146443514644351\n",
            "Recall: 0.6473684210526316\n",
            "Epoch 91 | Train Loss 0.6521672606468201\n"
          ]
        },
        {
          "output_type": "stream",
          "name": "stderr",
          "text": [
            "100%|██████████| 35/35 [00:00<00:00, 231.04it/s]\n"
          ]
        },
        {
          "output_type": "stream",
          "name": "stdout",
          "text": [
            "\n",
            " Confusion matrix: \n",
            " [[377 114]\n",
            " [ 67 125]]\n",
            "F1 Score: 0.5800464037122969\n",
            "Accuracy: 0.7349926793557833\n",
            "Precision: 0.5230125523012552\n",
            "Recall: 0.6510416666666666\n",
            "Epoch 92 | Train Loss 0.4064827859401703\n"
          ]
        },
        {
          "output_type": "stream",
          "name": "stderr",
          "text": [
            "100%|██████████| 35/35 [00:00<00:00, 201.07it/s]\n"
          ]
        },
        {
          "output_type": "stream",
          "name": "stdout",
          "text": [
            "\n",
            " Confusion matrix: \n",
            " [[378 111]\n",
            " [ 66 128]]\n",
            "F1 Score: 0.5912240184757506\n",
            "Accuracy: 0.7408491947291361\n",
            "Precision: 0.5355648535564853\n",
            "Recall: 0.6597938144329897\n",
            "Epoch 93 | Train Loss 0.6247127652168274\n"
          ]
        },
        {
          "output_type": "stream",
          "name": "stderr",
          "text": [
            "100%|██████████| 35/35 [00:00<00:00, 239.12it/s]\n"
          ]
        },
        {
          "output_type": "stream",
          "name": "stdout",
          "text": [
            "\n",
            " Confusion matrix: \n",
            " [[377 120]\n",
            " [ 67 119]]\n",
            "F1 Score: 0.56\n",
            "Accuracy: 0.726207906295754\n",
            "Precision: 0.497907949790795\n",
            "Recall: 0.6397849462365591\n",
            "Epoch 94 | Train Loss 0.46273747086524963\n"
          ]
        },
        {
          "output_type": "stream",
          "name": "stderr",
          "text": [
            "100%|██████████| 35/35 [00:00<00:00, 230.51it/s]\n"
          ]
        },
        {
          "output_type": "stream",
          "name": "stdout",
          "text": [
            "\n",
            " Confusion matrix: \n",
            " [[380 113]\n",
            " [ 64 126]]\n",
            "F1 Score: 0.5874125874125874\n",
            "Accuracy: 0.7408491947291361\n",
            "Precision: 0.5271966527196653\n",
            "Recall: 0.6631578947368421\n",
            "Epoch 95 | Train Loss 0.4210575819015503\n",
            "Predictions are [1 0 0 1 1 0 0 1 0 0 0 0 1 1 0 0 1 1 0 0 0 0 0 1 1 1 0 0 0 1 0 0 1 0 0 0 0\n",
            " 0 1 1 0 1 1 0 1 0 0 1 1 0 0 0 0 0 1 1 0 0 0 0 1 0 0 1 1 0 0 0 1 1 0 1 0 1\n",
            " 0 1 0 0 0 0 1 0 0 1 1 1 0 0 1 0 0 0 0 0 1 0 0 0 1 0 0 0 0 0 0 0 1 0 0 0 1\n",
            " 0 1 0 0 0 0 0 1 0 1 1 0 0 0 0 0 0 0 0 0 0 1 0 1 1 0 0 0 1 0 0 1 1 0 0 0 1\n",
            " 0 0 0 0 1 0 0 1 1 1 0 0 0 0 0 0 0 0 0 1 1 0 0 0 0 1 0 0 0 0 0 0 1 1 0 0 0\n",
            " 0 0 0 0 0 0 1 0 0 0 0 0 1 0 0 1 0 0 0 0 1 1 1 1 0 1 0 0 0 1 1 0 0 0 0 1 1\n",
            " 0 0 1 1 0 0 0 1 0 0 0 1 1 0 0 0 0 0 0 1 1 0 0 0 1 1 1 0 0 1 0 0 0 0 1 0 0\n",
            " 0 0 0 0 0 1 0 1 0 1 0 0 0 1 0 0 0 0 1 0 0 0 1 1 1 0 0 0 1 0 0 0 1]\n",
            "\n",
            " Confusion matrix: \n",
            " [[151  48]\n",
            " [ 37  56]]\n",
            "F1 Score: 0.5685279187817259\n",
            "Accuracy: 0.708904109589041\n",
            "Precision: 0.5384615384615384\n",
            "Recall: 0.6021505376344086\n",
            "Epoch 95 | Test Loss 0.5318523049354553\n"
          ]
        },
        {
          "output_type": "stream",
          "name": "stderr",
          "text": [
            "100%|██████████| 35/35 [00:00<00:00, 233.36it/s]\n"
          ]
        },
        {
          "output_type": "stream",
          "name": "stdout",
          "text": [
            "\n",
            " Confusion matrix: \n",
            " [[371 108]\n",
            " [ 73 131]]\n",
            "F1 Score: 0.5914221218961626\n",
            "Accuracy: 0.7349926793557833\n",
            "Precision: 0.5481171548117155\n",
            "Recall: 0.6421568627450981\n",
            "Epoch 96 | Train Loss 0.4666396379470825\n"
          ]
        },
        {
          "output_type": "stream",
          "name": "stderr",
          "text": [
            "100%|██████████| 35/35 [00:00<00:00, 236.65it/s]\n"
          ]
        },
        {
          "output_type": "stream",
          "name": "stdout",
          "text": [
            "\n",
            " Confusion matrix: \n",
            " [[379 117]\n",
            " [ 65 122]]\n",
            "F1 Score: 0.5727699530516432\n",
            "Accuracy: 0.7335285505124451\n",
            "Precision: 0.5104602510460251\n",
            "Recall: 0.6524064171122995\n",
            "Epoch 97 | Train Loss 0.46214017271995544\n"
          ]
        },
        {
          "output_type": "stream",
          "name": "stderr",
          "text": [
            "100%|██████████| 35/35 [00:00<00:00, 205.77it/s]\n"
          ]
        },
        {
          "output_type": "stream",
          "name": "stdout",
          "text": [
            "\n",
            " Confusion matrix: \n",
            " [[381 111]\n",
            " [ 63 128]]\n",
            "F1 Score: 0.5953488372093023\n",
            "Accuracy: 0.7452415812591509\n",
            "Precision: 0.5355648535564853\n",
            "Recall: 0.6701570680628273\n",
            "Epoch 98 | Train Loss 0.4504261016845703\n"
          ]
        },
        {
          "output_type": "stream",
          "name": "stderr",
          "text": [
            "100%|██████████| 35/35 [00:00<00:00, 223.57it/s]\n"
          ]
        },
        {
          "output_type": "stream",
          "name": "stdout",
          "text": [
            "\n",
            " Confusion matrix: \n",
            " [[376  96]\n",
            " [ 68 143]]\n",
            "F1 Score: 0.6355555555555554\n",
            "Accuracy: 0.7598828696925329\n",
            "Precision: 0.5983263598326359\n",
            "Recall: 0.6777251184834123\n",
            "Epoch 99 | Train Loss 0.5194008350372314\n"
          ]
        }
      ]
    },
    {
      "cell_type": "code",
      "source": [
        "ax = plt.subplot()\n",
        "sns.lineplot(x=range(100), y=losses_train ,ax = ax)\n",
        "ax.set_title(\"Train loss plot\")\n",
        "ax.set_xlabel(\"Iteration\")\n",
        "ax.set_ylabel(\"Loss\")\n",
        "plt.show()\n",
        "ax = plt.subplot()\n",
        "sns.lineplot(x=[i*5 for i in range(20)], y=losses_val ,ax = ax)\n",
        "ax.set_title(\"val loss plot\")\n",
        "ax.set_xlabel(\"Iteration\")\n",
        "ax.set_ylabel(\"Loss\")"
      ],
      "metadata": {
        "colab": {
          "base_uri": "https://localhost:8080/",
          "height": 960
        },
        "id": "zR6znLk6Kh1f",
        "outputId": "b65beb86-1ac9-408f-f61d-74043b4d0e80"
      },
      "id": "zR6znLk6Kh1f",
      "execution_count": 91,
      "outputs": [
        {
          "output_type": "display_data",
          "data": {
            "text/plain": [
              "<Figure size 640x480 with 1 Axes>"
            ],
            "image/png": "[encoded data removed]"
          },
          "metadata": {}
        },
        {
          "output_type": "execute_result",
          "data": {
            "text/plain": [
              "Text(0, 0.5, 'Loss')"
            ]
          },
          "metadata": {},
          "execution_count": 91
        },
        {
          "output_type": "display_data",
          "data": {
            "text/plain": [
              "<Figure size 640x480 with 1 Axes>"
            ],
            "image/png": "[encoded data removed]"
          },
          "metadata": {}
        }
      ]
    },
    {
      "cell_type": "code",
      "source": [],
      "metadata": {
        "id": "gfQz-TQam4La"
      },
      "id": "gfQz-TQam4La",
      "execution_count": null,
      "outputs": []
    }
  ],
  "metadata": {
    "kernelspec": {
      "display_name": "Python 3",
      "name": "python3"
    },
    "language_info": {
      "codemirror_mode": {
        "name": "ipython",
        "version": 3
      },
      "file_extension": ".py",
      "mimetype": "text/x-python",
      "name": "python",
      "nbconvert_exporter": "python",
      "pygments_lexer": "ipython3",
      "version": "3.11.2"
    },
    "colab": {
      "provenance": []
    }
  },
  "nbformat": 4,
  "nbformat_minor": 5
}